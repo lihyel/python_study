{
 "cells": [
  {
   "cell_type": "markdown",
   "id": "dd06eb1f",
   "metadata": {},
   "source": [
    "### 01. DataFrame에 값 쓰기1"
   ]
  },
  {
   "cell_type": "code",
   "execution_count": 2,
   "id": "8c16d47c",
   "metadata": {},
   "outputs": [
    {
     "data": {
      "text/html": [
       "<div>\n",
       "<style scoped>\n",
       "    .dataframe tbody tr th:only-of-type {\n",
       "        vertical-align: middle;\n",
       "    }\n",
       "\n",
       "    .dataframe tbody tr th {\n",
       "        vertical-align: top;\n",
       "    }\n",
       "\n",
       "    .dataframe thead th {\n",
       "        text-align: right;\n",
       "    }\n",
       "</style>\n",
       "<table border=\"1\" class=\"dataframe\">\n",
       "  <thead>\n",
       "    <tr style=\"text-align: right;\">\n",
       "      <th></th>\n",
       "      <th>출시일</th>\n",
       "      <th>디스플레이</th>\n",
       "      <th>메모리</th>\n",
       "      <th>출시 버전</th>\n",
       "      <th>Face ID</th>\n",
       "    </tr>\n",
       "  </thead>\n",
       "  <tbody>\n",
       "    <tr>\n",
       "      <th>iPhone 7</th>\n",
       "      <td>2016-09-16</td>\n",
       "      <td>4.7</td>\n",
       "      <td>2GB</td>\n",
       "      <td>iOS 10.0</td>\n",
       "      <td>No</td>\n",
       "    </tr>\n",
       "    <tr>\n",
       "      <th>iPhone 7 Plus</th>\n",
       "      <td>2016-09-16</td>\n",
       "      <td>5.5</td>\n",
       "      <td>3GB</td>\n",
       "      <td>iOS 10.0</td>\n",
       "      <td>No</td>\n",
       "    </tr>\n",
       "    <tr>\n",
       "      <th>iPhone 8</th>\n",
       "      <td>2017-09-22</td>\n",
       "      <td>4.7</td>\n",
       "      <td>2GB</td>\n",
       "      <td>iOS 11.0</td>\n",
       "      <td>No</td>\n",
       "    </tr>\n",
       "    <tr>\n",
       "      <th>iPhone 8 Plus</th>\n",
       "      <td>2017-09-22</td>\n",
       "      <td>5.5</td>\n",
       "      <td>3GB</td>\n",
       "      <td>iOS 11.0</td>\n",
       "      <td>No</td>\n",
       "    </tr>\n",
       "    <tr>\n",
       "      <th>iPhone X</th>\n",
       "      <td>2017-11-03</td>\n",
       "      <td>5.8</td>\n",
       "      <td>3GB</td>\n",
       "      <td>iOS 11.1</td>\n",
       "      <td>Yes</td>\n",
       "    </tr>\n",
       "    <tr>\n",
       "      <th>iPhone XS</th>\n",
       "      <td>2018-09-21</td>\n",
       "      <td>5.8</td>\n",
       "      <td>4GB</td>\n",
       "      <td>iOS 12.0</td>\n",
       "      <td>Yes</td>\n",
       "    </tr>\n",
       "    <tr>\n",
       "      <th>iPhone XS Max</th>\n",
       "      <td>2018-09-21</td>\n",
       "      <td>6.5</td>\n",
       "      <td>4GB</td>\n",
       "      <td>iOS 12.0</td>\n",
       "      <td>Yes</td>\n",
       "    </tr>\n",
       "  </tbody>\n",
       "</table>\n",
       "</div>"
      ],
      "text/plain": [
       "                      출시일  디스플레이  메모리     출시 버전 Face ID\n",
       "iPhone 7       2016-09-16    4.7  2GB  iOS 10.0      No\n",
       "iPhone 7 Plus  2016-09-16    5.5  3GB  iOS 10.0      No\n",
       "iPhone 8       2017-09-22    4.7  2GB  iOS 11.0      No\n",
       "iPhone 8 Plus  2017-09-22    5.5  3GB  iOS 11.0      No\n",
       "iPhone X       2017-11-03    5.8  3GB  iOS 11.1     Yes\n",
       "iPhone XS      2018-09-21    5.8  4GB  iOS 12.0     Yes\n",
       "iPhone XS Max  2018-09-21    6.5  4GB  iOS 12.0     Yes"
      ]
     },
     "execution_count": 2,
     "metadata": {},
     "output_type": "execute_result"
    }
   ],
   "source": [
    "import pandas as pd\n",
    "\n",
    "iphone_df = pd.read_csv('/Users/leehyeri/Documents/programming study/codeit/python/Start_Data Science/data/iphone.csv', index_col = 0)\n",
    "iphone_df"
   ]
  },
  {
   "cell_type": "markdown",
   "id": "8ad1a1f7",
   "metadata": {},
   "source": [
    "#### 값 수정하기\n",
    "- df.loc['열 이름', '행 이름'] = '새로 넣을 값'\n",
    "  \n",
    "- 한 줄 전체 수정하기\n",
    "    - 한 행\n",
    "        - df.loc['행 이름'] = [새로 넣을 값은 리스트에 넣기]\n",
    "    - 한 열\n",
    "        - df['열 이름'] = [ \" ]\n",
    "        - 똑같은 값 줄 때\n",
    "            - df['열 이름'] = ''\n",
    "        "
   ]
  },
  {
   "cell_type": "code",
   "execution_count": null,
   "id": "54462ada",
   "metadata": {},
   "outputs": [],
   "source": []
  },
  {
   "cell_type": "markdown",
   "id": "807e30c7",
   "metadata": {},
   "source": [
    "### 02. DataFrame에 값 쓰기2"
   ]
  },
  {
   "cell_type": "markdown",
   "id": "cd394c36",
   "metadata": {},
   "source": [
    "- 컬럼 여러개 한번에 바꾸기 (여러 컬럼 선택하던 거~)\n",
    "    - df[['컬럼이름1', '컬럼이름2']] = ''\n",
    "    - df.loc['시작 칼럼 이름' : '종료 칼럼 이름'] = ''\n",
    "- 로우 여러개 한번에 바꾸기\n",
    "    - df.loc[['로우이름1','로우이름2']] = ''"
   ]
  },
  {
   "cell_type": "markdown",
   "id": "1c82ebfc",
   "metadata": {},
   "source": [
    "#### 조건 부여하기 (조건 인덱싱이랑 같음)\n",
    "- df.loc[df['컬럼 이름'] > 조건] = '' \n",
    "\n",
    "#### 위치로 값 바꾸기\n",
    "- df.iloc[[1,3] [1,4]] = ''"
   ]
  },
  {
   "cell_type": "code",
   "execution_count": null,
   "id": "0e52b982",
   "metadata": {},
   "outputs": [],
   "source": []
  },
  {
   "cell_type": "markdown",
   "id": "1f59a2f8",
   "metadata": {},
   "source": [
    "### 03. DataFrame에 값 추가/삭제\n",
    "\n",
    "#### 값 추가\n",
    "##### 없는 로우/행 이름을 넣으면 값이 추가된다.\n",
    "ex)로우\n",
    "- df.loc['새로운 로우 이름'] = [들어갈 값 리스트]  \n",
    "  \n",
    "ex)행\n",
    "- df['새로운 컬럼 이름'] = [들어갈 값 리스트] or '모두 하나의 같은 값'\n",
    "  \n",
    "  \n",
    "#### 값 삭제(df.drop, axis='index', )\n",
    "ex)로우\n",
    "- df.drop('삭제할 로우 이름', axis='index', inplace=False)\n",
    "    - axis='index' : 로우를 다른말로 'index'라고 함.. 열이아닌 행을 삭제하겠다는 의미\n",
    "    - inplace='False' : 기존의 데이터프레임은 유지 = 건들지 않겠다.(바꾸려면 True)\n",
    "    \n",
    "ex)컬럼\n",
    "- df.drop('삭제할 컬럼 이름', axis='columns', inplace=False)\n",
    "---\n",
    "ex) 여러 줄\n",
    "- df.drop(['삭제할 로우 이름 리스트'], axis='index', inplace=False)\n"
   ]
  },
  {
   "cell_type": "code",
   "execution_count": null,
   "id": "39766c78",
   "metadata": {},
   "outputs": [],
   "source": []
  },
  {
   "cell_type": "markdown",
   "id": "e7350b63",
   "metadata": {},
   "source": [
    "### 06. index/column 설정하기\n",
    "#### 칼럼 이름 바꾸기 : df.rename() \n",
    "- df.rename(columns= {'apple' : 'Apple'}, inplace=True) \n",
    "    - drop과 마찬가지로.. rename() 함수 자체는 DF를 근본적으로 바꾸지 X, inplace로 설정 추가 해줘야함.\n",
    "    \n",
    "#### 로우 총괄 이름 만들기 : df.index.name = '' \n",
    "- df.index.name = ''\n",
    "\n",
    "#### 로우 인덱스 다른 컬럼으로 변경하기 : df.index ->  df.set_index() \n",
    "- 1단계 : 기존 로우 인덱스를 새로운 열로 추가\n",
    "    - df['새로운 컬럼 이름'] = df.index\n",
    "- 2단계 : 다른 컬럼을 새로운 인덱스로 지정하기 (좋은 인덱스 : 중복 확률이 적은 인덱스)\n",
    "    - df.set_index('칼럼 이름', inplace = True)"
   ]
  },
  {
   "cell_type": "markdown",
   "id": "ae22f2b1",
   "metadata": {},
   "source": [
    "### 07. [실습] 서류 전형 합격 여부"
   ]
  },
  {
   "cell_type": "raw",
   "id": "ace79983",
   "metadata": {},
   "source": [
    "토익 시험은 LC(듣기) 파트와 RC(독해) 파트로 이루어져 있습니다. 각 파트가 495점 만점, 총 990점이 만점입니다.\n",
    "\n",
    "“서울 항공”에 입사하기 위해서는 토익 점수를 제출해야 하는데요. 각 파트가 최소 250점, 총 점수가 최소 600점이 되어야 서류 전형을 합격할 수 있습니다.\n",
    "\n",
    "기존 DataFrame에 “합격 여부”라는 column을 추가하고, 합격한 지원자는 불린 값 True, 불합격한 지원자는 불린 값 False를 넣어주면 됩니다.\n"
   ]
  },
  {
   "cell_type": "raw",
   "id": "3d8b5b3d",
   "metadata": {},
   "source": [
    "import pandas as pd\n",
    "    \n",
    "df = pd.read_csv('data/toeic.csv')\n",
    "\n",
    "# 각파트 & 총점수까지 조건에 들어가야한다!\n",
    "# 1. 불린 값 df1 데이터 프레임에 저장하기\n",
    "df1 = (df['LC'] >= 250) & (df['RC'] >= 250) & (df['LC'] + df['RC'] >= 600)\n",
    "# 2. 새로운 컬럼에 df1 데이터 넣기\n",
    "df['합격 여부'] = df1\n",
    "\n",
    "df"
   ]
  },
  {
   "cell_type": "markdown",
   "id": "1ba38bac",
   "metadata": {},
   "source": [
    "#### 해설 참조\n",
    "- 조건이 두 개이므로, 조건에 따라 변수를 두 개로 나누어 값을 받는 것."
   ]
  },
  {
   "cell_type": "code",
   "execution_count": null,
   "id": "332567ed",
   "metadata": {},
   "outputs": [],
   "source": []
  },
  {
   "cell_type": "markdown",
   "id": "b4b76485",
   "metadata": {},
   "source": [
    "### 08. [실습] \n",
    "- 헤맸던 문제\n",
    "    - 4개의 열에 데이터들이 80을 넘으면 1, 넘지않으면 0으로 값을 바꾸기."
   ]
  },
  {
   "cell_type": "code",
   "execution_count": null,
   "id": "30fff4c8",
   "metadata": {},
   "outputs": [],
   "source": [
    "# 필터링[불린 값 받기] = \n",
    "\n",
    "df[df.loc[:, 'B':'E'] < 80] = 0\n",
    "df[df.loc[:, 'B':'E'] >= 80] = 1"
   ]
  }
 ],
 "metadata": {
  "kernelspec": {
   "display_name": "Python 3 (ipykernel)",
   "language": "python",
   "name": "python3"
  },
  "language_info": {
   "codemirror_mode": {
    "name": "ipython",
    "version": 3
   },
   "file_extension": ".py",
   "mimetype": "text/x-python",
   "name": "python",
   "nbconvert_exporter": "python",
   "pygments_lexer": "ipython3",
   "version": "3.9.13"
  }
 },
 "nbformat": 4,
 "nbformat_minor": 5
}
