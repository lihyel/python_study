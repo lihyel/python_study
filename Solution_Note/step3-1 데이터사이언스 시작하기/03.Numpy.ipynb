{
 "cells": [
  {
   "cell_type": "markdown",
   "id": "d94d7654",
   "metadata": {},
   "source": [
    "### 01. numpy란?\n",
    "#### 계산 작업을 편하게 해줄 도구\n",
    "- 데이터 분석은 많은 양의 데이터로 계산을 해야함..\n",
    "    - 그러려면, 파이썬으로하면 많은 코드를 짜야함\n",
    "- numpy를 사용하면 그 계산이 쉬워짐!\n",
    "    - 행렬, 2차원 배열 할 때 진가를 발휘한다.\n",
    "    - 반복문을 쓰지 않고 리스트 안의 데이터를 한 번에 분석할 수 있다."
   ]
  },
  {
   "cell_type": "code",
   "execution_count": null,
   "id": "56482b09",
   "metadata": {},
   "outputs": [],
   "source": []
  },
  {
   "cell_type": "markdown",
   "id": "c066e954",
   "metadata": {},
   "source": [
    "### 02. numpy array의 생김새"
   ]
  },
  {
   "cell_type": "code",
   "execution_count": 4,
   "id": "ef01d36d",
   "metadata": {},
   "outputs": [
    {
     "data": {
      "text/plain": [
       "array([1, 2, 3, 4, 5, 6])"
      ]
     },
     "execution_count": 4,
     "metadata": {},
     "output_type": "execute_result"
    }
   ],
   "source": [
    "import numpy as np\n",
    "\n",
    "array1 = np.array([1,2,3,4,5,6])\n",
    "array1"
   ]
  },
  {
   "cell_type": "code",
   "execution_count": 5,
   "id": "659b00ad",
   "metadata": {},
   "outputs": [
    {
     "data": {
      "text/plain": [
       "numpy.ndarray"
      ]
     },
     "execution_count": 5,
     "metadata": {},
     "output_type": "execute_result"
    }
   ],
   "source": [
    "type(array1)\n",
    "\n",
    "# ndarray : n-차원(dimension)배열"
   ]
  },
  {
   "cell_type": "code",
   "execution_count": 6,
   "id": "37d58247",
   "metadata": {},
   "outputs": [
    {
     "data": {
      "text/plain": [
       "(6,)"
      ]
     },
     "execution_count": 6,
     "metadata": {},
     "output_type": "execute_result"
    }
   ],
   "source": [
    "# array의 형태 확인\n",
    "array1.shape\n",
    "\n",
    "# 결과값에 ,로 빈칸이 있음 => 1차원이라서 그럼"
   ]
  },
  {
   "cell_type": "code",
   "execution_count": 7,
   "id": "54a60fe3",
   "metadata": {},
   "outputs": [
    {
     "data": {
      "text/plain": [
       "6"
      ]
     },
     "execution_count": 7,
     "metadata": {},
     "output_type": "execute_result"
    }
   ],
   "source": [
    "# array에 몇 개의 요소가 있는지 확인\n",
    "array1.size"
   ]
  },
  {
   "cell_type": "markdown",
   "id": "5630e459",
   "metadata": {},
   "source": [
    "### 2차원 array => 행렬에서 다시\n",
    "#### array 안에 리스트가 있는 경우"
   ]
  },
  {
   "cell_type": "code",
   "execution_count": 8,
   "id": "5af54d4d",
   "metadata": {},
   "outputs": [
    {
     "data": {
      "text/plain": [
       "array([[1, 2],\n",
       "       [3, 4],\n",
       "       [5, 6]])"
      ]
     },
     "execution_count": 8,
     "metadata": {},
     "output_type": "execute_result"
    }
   ],
   "source": [
    "array2 = np.array([[1,2], [3,4], [5,6]])\n",
    "array2"
   ]
  },
  {
   "cell_type": "code",
   "execution_count": 9,
   "id": "c9cb9198",
   "metadata": {},
   "outputs": [
    {
     "data": {
      "text/plain": [
       "numpy.ndarray"
      ]
     },
     "execution_count": 9,
     "metadata": {},
     "output_type": "execute_result"
    }
   ],
   "source": [
    "type(array2)"
   ]
  },
  {
   "cell_type": "code",
   "execution_count": 10,
   "id": "a95f6e7d",
   "metadata": {
    "scrolled": true
   },
   "outputs": [
    {
     "data": {
      "text/plain": [
       "(3, 2)"
      ]
     },
     "execution_count": 10,
     "metadata": {},
     "output_type": "execute_result"
    }
   ],
   "source": [
    "array2.shape\n",
    "# 3행 2열"
   ]
  },
  {
   "cell_type": "code",
   "execution_count": 11,
   "id": "cc51b0d3",
   "metadata": {},
   "outputs": [
    {
     "data": {
      "text/plain": [
       "6"
      ]
     },
     "execution_count": 11,
     "metadata": {},
     "output_type": "execute_result"
    }
   ],
   "source": [
    "array2.size\n",
    "# 2차원 : 3* 2 = 6 이 된다."
   ]
  },
  {
   "cell_type": "markdown",
   "id": "f9dfd365",
   "metadata": {},
   "source": [
    "cf. 3차원 array : array안에 array가 있는데 그 안에 또 array가 있을 때"
   ]
  },
  {
   "cell_type": "code",
   "execution_count": null,
   "id": "8db605e0",
   "metadata": {},
   "outputs": [],
   "source": []
  },
  {
   "cell_type": "markdown",
   "id": "e249a56a",
   "metadata": {},
   "source": [
    "### 03. numpy array를 만드는 다양한 방법"
   ]
  },
  {
   "cell_type": "code",
   "execution_count": 12,
   "id": "755a089e",
   "metadata": {},
   "outputs": [
    {
     "name": "stdout",
     "output_type": "stream",
     "text": [
      "[ 2  3  5  7 11 13 17 19 23 29 31]\n"
     ]
    }
   ],
   "source": [
    "# 파이썬 리스트를 통해 생성\n",
    "# numpy 모듈의 array 메소드에 파라미터로 파이썬 리스트를 넘겨주면 numpy array가 리턴됩니다.\n",
    "\n",
    "array1 = np.array([2, 3, 5, 7, 11, 13, 17, 19, 23, 29, 31])\n",
    "    \n",
    "print(array1)"
   ]
  },
  {
   "cell_type": "code",
   "execution_count": 13,
   "id": "5f09179a",
   "metadata": {},
   "outputs": [
    {
     "name": "stdout",
     "output_type": "stream",
     "text": [
      "[7 7 7 7 7 7]\n"
     ]
    }
   ],
   "source": [
    "# 균일한 값으로 생성 \n",
    "# numpy 모듈의 full 메소드를 사용하면, 모든 값이 같은 numpy array를 생성할 수 있습니다.\n",
    "\n",
    "array1 = np.full(6, 7)\n",
    "    \n",
    "print(array1)"
   ]
  },
  {
   "cell_type": "code",
   "execution_count": 14,
   "id": "4fda2304",
   "metadata": {},
   "outputs": [
    {
     "name": "stdout",
     "output_type": "stream",
     "text": [
      "[0 0 0 0 0 0]\n",
      "\n",
      "[0 0 0 0 0 0]\n"
     ]
    }
   ],
   "source": [
    "# 모든 값이 0인 numpy array 생성\n",
    "# 모든 값이 0인 numpy array를 생성하기 위해서는 full 메소드를 사용하면 되겠죠. 하지만 사실은 더 간편한 방법이 있습니다.\n",
    "\n",
    "array1 = np.full(6, 0)\n",
    "array2 = np.zeros(6, dtype=int)\n",
    "    \n",
    "print(array1)\n",
    "print()\n",
    "print(array2)"
   ]
  },
  {
   "cell_type": "code",
   "execution_count": 15,
   "id": "71e3174c",
   "metadata": {},
   "outputs": [
    {
     "name": "stdout",
     "output_type": "stream",
     "text": [
      "[0.8355236  0.08309476 0.14890601 0.88752598 0.31719947 0.14341122]\n",
      "\n",
      "[0.91302018 0.06137908 0.67845882 0.91353963 0.3808374  0.37766275]\n"
     ]
    }
   ],
   "source": [
    "# 랜덤한 값들로 생성\n",
    "# 어쩔 때는 임의의 값들로 배열을 생성시키고 싶습니다. 그럴 때는 numpy의 random 모듈의 random 함수를 사용하면 됩니다.\n",
    "\n",
    "# numpy 모듈 안에 random이라는 모듈이 있고, 그 안에 또 random이라는 함수가 있는 겁니다!\n",
    "array1 = np.random.random(6)\n",
    "array2 = np.random.random(6)\n",
    "    \n",
    "print(array1)\n",
    "print()\n",
    "print(array2)"
   ]
  },
  {
   "cell_type": "code",
   "execution_count": 16,
   "id": "a2478951",
   "metadata": {},
   "outputs": [
    {
     "name": "stdout",
     "output_type": "stream",
     "text": [
      "[0 1 2 3 4 5]\n"
     ]
    }
   ],
   "source": [
    "# 연속된 값들이 담긴 numpy array 생성\n",
    "# numpy 모듈의 arange 함수를 사용하면 연속된 값들이 담겨 있는 numpy array를 생성할 수 있습니다.\n",
    "\n",
    "# arange 함수는 파이썬의 기본 함수인 range와 굉장히 비슷한 원리로 동작하는데요. 파라미터가 1개인 경우, 2개인 경우, 3개인 경우 모두 살펴봅시다.\n",
    "\n",
    "# 파라미터 1개 \n",
    "# arange(m)을 하면 0부터 m-1까지의 값들이 담긴 numpy array가 리턴됩니다.\n",
    "array1 = np.arange(6)\n",
    "print(array1)"
   ]
  },
  {
   "cell_type": "code",
   "execution_count": 17,
   "id": "5529de93",
   "metadata": {},
   "outputs": [
    {
     "name": "stdout",
     "output_type": "stream",
     "text": [
      "[1 2 3]\n"
     ]
    }
   ],
   "source": [
    "# 파라미터 2개\n",
    "# arange(n, m)을 하면 n부터 m-1까지의 값들이 담긴 numpy array가 리턴됩니다.\n",
    "\n",
    "array1 = np.arange(1,4)\n",
    "print(array1)"
   ]
  },
  {
   "cell_type": "code",
   "execution_count": 18,
   "id": "f1ee470d",
   "metadata": {},
   "outputs": [
    {
     "name": "stdout",
     "output_type": "stream",
     "text": [
      "[1 3]\n"
     ]
    }
   ],
   "source": [
    "# 파라미터 3개\n",
    "# arange(n, m, s)를 하면 n부터 m-1까지의 값들 중 간격이 s인 값들이 담긴 numpy array가 리턴됩니다.\n",
    "\n",
    "array1 = np.arange(1,5,2)\n",
    "print(array1)"
   ]
  },
  {
   "cell_type": "code",
   "execution_count": null,
   "id": "9a92604a",
   "metadata": {},
   "outputs": [],
   "source": []
  },
  {
   "cell_type": "markdown",
   "id": "b632f7aa",
   "metadata": {},
   "source": [
    "### 04. 모듈 별명 지어주기 'as'"
   ]
  },
  {
   "cell_type": "code",
   "execution_count": 19,
   "id": "3f827aff",
   "metadata": {},
   "outputs": [
    {
     "data": {
      "text/plain": [
       "array([0, 0, 0, 0, 0, 0])"
      ]
     },
     "execution_count": 19,
     "metadata": {},
     "output_type": "execute_result"
    }
   ],
   "source": [
    "import numpy as np\n",
    "\n",
    "array1 = np.full(6,0)\n",
    "array1"
   ]
  },
  {
   "cell_type": "code",
   "execution_count": null,
   "id": "8c03075a",
   "metadata": {},
   "outputs": [],
   "source": []
  },
  {
   "cell_type": "markdown",
   "id": "108674c7",
   "metadata": {},
   "source": [
    "### 05. numpy array 생성 연습 1"
   ]
  },
  {
   "cell_type": "raw",
   "id": "15c6a726",
   "metadata": {},
   "source": [
    "실습 설명\n",
    "1부터 100까지(1과 100 포함) 담겨 있는 numpy array를 생성하고 출력해 주세요.\n",
    "\n",
    "주의 사항: 자동 채점 과제입니다. 정답 출력 코드는 print(arr)이 아닌 arr로 작성해 주세요."
   ]
  },
  {
   "cell_type": "code",
   "execution_count": 20,
   "id": "1bf24451",
   "metadata": {
    "scrolled": true
   },
   "outputs": [
    {
     "data": {
      "text/plain": [
       "array([  1,   2,   3,   4,   5,   6,   7,   8,   9,  10,  11,  12,  13,\n",
       "        14,  15,  16,  17,  18,  19,  20,  21,  22,  23,  24,  25,  26,\n",
       "        27,  28,  29,  30,  31,  32,  33,  34,  35,  36,  37,  38,  39,\n",
       "        40,  41,  42,  43,  44,  45,  46,  47,  48,  49,  50,  51,  52,\n",
       "        53,  54,  55,  56,  57,  58,  59,  60,  61,  62,  63,  64,  65,\n",
       "        66,  67,  68,  69,  70,  71,  72,  73,  74,  75,  76,  77,  78,\n",
       "        79,  80,  81,  82,  83,  84,  85,  86,  87,  88,  89,  90,  91,\n",
       "        92,  93,  94,  95,  96,  97,  98,  99, 100])"
      ]
     },
     "execution_count": 20,
     "metadata": {},
     "output_type": "execute_result"
    }
   ],
   "source": [
    "import numpy as np\n",
    "\n",
    "arr = np.arange(1,101)\n",
    "arr"
   ]
  },
  {
   "cell_type": "markdown",
   "id": "200f2421",
   "metadata": {},
   "source": [
    "### 06. numpy array 생성 연습 2"
   ]
  },
  {
   "cell_type": "raw",
   "id": "74ea00ae",
   "metadata": {},
   "source": [
    "1 이상 100 이하의 자연수(수나 순서를 셀 때 쓰는 1, 2, 3 과 같은 수) 중 3의 배수만 담겨 있는 numpy array를 생성하고 출력해 주세요.\n",
    "\n",
    "주의 사항: 자동 채점 과제입니다. 정답 출력 코드는 print(arr)이 아닌 arr로 작성해 주세요."
   ]
  },
  {
   "cell_type": "code",
   "execution_count": 21,
   "id": "23737624",
   "metadata": {},
   "outputs": [
    {
     "data": {
      "text/plain": [
       "array([ 3,  6,  9, 12, 15, 18, 21, 24, 27, 30, 33, 36, 39, 42, 45, 48, 51,\n",
       "       54, 57, 60, 63, 66, 69, 72, 75, 78, 81, 84, 87, 90, 93, 96, 99])"
      ]
     },
     "execution_count": 21,
     "metadata": {},
     "output_type": "execute_result"
    }
   ],
   "source": [
    "# 1이 꼭 포함되어야 한다는 뜻이 아니었던...\n",
    "arr = np.arange(3,101,3)\n",
    "arr"
   ]
  },
  {
   "cell_type": "code",
   "execution_count": null,
   "id": "2c8d016d",
   "metadata": {},
   "outputs": [],
   "source": []
  },
  {
   "cell_type": "markdown",
   "id": "f70bbcfb",
   "metadata": {},
   "source": [
    "### 07. 인덱싱, 슬라이싱"
   ]
  },
  {
   "cell_type": "code",
   "execution_count": 25,
   "id": "223e0715",
   "metadata": {},
   "outputs": [
    {
     "data": {
      "text/plain": [
       "array([ 6, 12, 18])"
      ]
     },
     "execution_count": 25,
     "metadata": {},
     "output_type": "execute_result"
    }
   ],
   "source": [
    "# 리스트 인덱싱과 동일\n",
    "\n",
    "#특이점\n",
    "#리스트로 인덱싱 - 각 인덱스에 맞는 요소가 출력됨\n",
    "arr[[1,3,5]]"
   ]
  },
  {
   "cell_type": "code",
   "execution_count": 26,
   "id": "ab9b84e2",
   "metadata": {},
   "outputs": [],
   "source": [
    "# 리스트 슬라이싱과 동일"
   ]
  },
  {
   "cell_type": "code",
   "execution_count": null,
   "id": "dff32502",
   "metadata": {},
   "outputs": [],
   "source": []
  },
  {
   "cell_type": "markdown",
   "id": "0698a31c",
   "metadata": {},
   "source": [
    "### 08. numpy 기본 연산\n",
    "#### 계산툴 답게, array 조작이 매우 간편!!"
   ]
  },
  {
   "cell_type": "code",
   "execution_count": 37,
   "id": "d69eae0b",
   "metadata": {},
   "outputs": [],
   "source": [
    "array1 = np.arange(10)\n",
    "array2 = np.arange(10,20)"
   ]
  },
  {
   "cell_type": "markdown",
   "id": "e6d423aa",
   "metadata": {},
   "source": [
    "#### 연산을 한다고 바로저장 -> X\n",
    "#### 저장을 원하면 변수에 다시 담아야 한다."
   ]
  },
  {
   "cell_type": "code",
   "execution_count": 38,
   "id": "4a94b3ee",
   "metadata": {},
   "outputs": [
    {
     "name": "stdout",
     "output_type": "stream",
     "text": [
      "[ 0  2  4  6  8 10 12 14 16 18]\n",
      "[0.  0.5 1.  1.5 2.  2.5 3.  3.5 4.  4.5]\n",
      "[ 2  3  4  5  6  7  8  9 10 11]\n"
     ]
    }
   ],
   "source": [
    "# 각 원소에 더하고, 곱하고, 나누고 싶을 때 (numpy 안쓰던 리스트에서는 for문을 썼던...)\n",
    "print(array1 * 2)\n",
    "print(array1 / 2)\n",
    "print(array1 + 2)"
   ]
  },
  {
   "cell_type": "code",
   "execution_count": 39,
   "id": "8735e98d",
   "metadata": {},
   "outputs": [
    {
     "data": {
      "text/plain": [
       "array([0, 1, 2, 3, 4, 5, 6, 7, 8, 9])"
      ]
     },
     "execution_count": 39,
     "metadata": {},
     "output_type": "execute_result"
    }
   ],
   "source": [
    "array1"
   ]
  },
  {
   "cell_type": "code",
   "execution_count": 40,
   "id": "bacf1346",
   "metadata": {},
   "outputs": [
    {
     "data": {
      "text/plain": [
       "array([ 0,  2,  4,  6,  8, 10, 12, 14, 16, 18])"
      ]
     },
     "execution_count": 40,
     "metadata": {},
     "output_type": "execute_result"
    }
   ],
   "source": [
    "array1 *= 2\n",
    "array1"
   ]
  },
  {
   "cell_type": "code",
   "execution_count": 42,
   "id": "73a2017f",
   "metadata": {},
   "outputs": [
    {
     "data": {
      "text/plain": [
       "array([10, 13, 16, 19, 22, 25, 28, 31, 34, 37])"
      ]
     },
     "execution_count": 42,
     "metadata": {},
     "output_type": "execute_result"
    }
   ],
   "source": [
    "# array 끼리 연산하고 싶을 때(더하기, 나누기 모두 동일)\n",
    "# 같은 인덱스에 있는 원소끼리 연산됨\n",
    "array1 + array2"
   ]
  },
  {
   "cell_type": "code",
   "execution_count": null,
   "id": "f5aaf46f",
   "metadata": {},
   "outputs": [],
   "source": []
  },
  {
   "cell_type": "markdown",
   "id": "d69c5ccf",
   "metadata": {},
   "source": [
    "### 09. [실습] 신주쿠 흥부부대찌개"
   ]
  },
  {
   "cell_type": "raw",
   "id": "c3a5f23a",
   "metadata": {},
   "source": [
    "일본에는 한식 열풍이 불고 있습니다. 기회를 엿본 영훈이는 대기업을 퇴사하고 신주쿠에 프랜차이즈 ‘흥부부대찌개’ 가맹점을 냈습니다.\n",
    "\n",
    "그러나 보수적인 아버지께서는 번듯한 직장을 박차고 나온 영훈이가 못마땅합니다. 아버지를 안심시켜 드리기 위해 매달 매출을 보고하려고 하는데요. 엔화(¥)로 저장한 매출 데이터를 원화(₩)로 변환하는 작업이 필요합니다.\n",
    "\n",
    "마침 numpy를 배운 우리가 도와줄 수 있겠네요. 엔화 매출이 담겨 있는 파이썬 리스트가 주어졌습니다. 1엔에 10.08원이라고 가정하고, 원화 매출이 담긴 numpy array를 만들어 출력해 주세요.\n",
    "\n",
    "반복문은 사용하면 안 됩니다!\n",
    "\n",
    "주의 사항: 자동 채점 과제입니다. 정답 출력 코드는 print가 없는 방식으로 작성해 주세요. (예시: won_array)"
   ]
  },
  {
   "cell_type": "code",
   "execution_count": 48,
   "id": "aa6d3b49",
   "metadata": {},
   "outputs": [
    {
     "data": {
      "text/plain": [
       "array([3024000., 3427200., 3225600., 3628800., 4435200., 1411200.,\n",
       "       1814400., 3427200., 3326400., 2923200., 2822400., 3830400.,\n",
       "       1713600., 1411200., 2318400., 3931200., 4032000., 3528000.,\n",
       "       3830400., 1512000., 1108800., 2419200., 3830400., 3830400.,\n",
       "       3427200., 4233600., 1512000., 1310400., 3628800., 3225600.,\n",
       "       2520000.])"
      ]
     },
     "execution_count": 48,
     "metadata": {},
     "output_type": "execute_result"
    }
   ],
   "source": [
    "import numpy as np\n",
    "\n",
    "revenue_in_yen = [\n",
    "    300000, 340000, 320000, 360000, \n",
    "    440000, 140000, 180000, 340000, \n",
    "    330000, 290000, 280000, 380000, \n",
    "    170000, 140000, 230000, 390000, \n",
    "    400000, 350000, 380000, 150000, \n",
    "    110000, 240000, 380000, 380000, \n",
    "    340000, 420000, 150000, 130000, \n",
    "    360000, 320000, 250000\n",
    "]\n",
    "\n",
    "# 수입가격은 리스트로 작성되어있음 -> np.array로 바꿔줘야함.\n",
    "\n",
    "# 내가 생각한 방법 ...\n",
    "# revenue_in_yen = np.array([300000, 340000, 320000, 360000, \n",
    "#     440000, 140000, 180000, 340000, \n",
    "#     330000, 290000, 280000, 380000, \n",
    "#     170000, 140000, 230000, 390000, \n",
    "#     400000, 350000, 380000, 150000, \n",
    "#     110000, 240000, 380000, 380000, \n",
    "#     340000, 420000, 150000, 130000, \n",
    "#     360000, 320000, 250000])\n",
    "\n",
    "# 모범답안 방법\n",
    "# np.array() 안에는 array를 넣을 수 있다는 점을 생각!! \n",
    "yen_array = np.array(revenue_in_yen)\n",
    "\n",
    "# array로 바꾼 엔화 수입을 환율을 적용해 wonarray에 담기\n",
    "won_array = yen_array * 10.08\n",
    "\n",
    "# 테스트 코드\n",
    "won_array"
   ]
  },
  {
   "cell_type": "code",
   "execution_count": null,
   "id": "b1501225",
   "metadata": {},
   "outputs": [],
   "source": []
  },
  {
   "cell_type": "markdown",
   "id": "e25d6480",
   "metadata": {},
   "source": [
    "### 10. 흥부부대찌개 LA 진출"
   ]
  },
  {
   "cell_type": "raw",
   "id": "e54ea6b0",
   "metadata": {},
   "source": [
    "흥부부대찌개 신주쿠점의 흥행에 성공한 영훈이는 여세를 몰아 LA에도 가맹점을 하나 냈습니다.\n",
    "\n",
    "이제 아버지께 매출을 보고하기 위한 프로세스가 조금 복잡해졌습니다. 각 지점의 매출을 원화로 변환시키고 더해야 하죠. 1엔에 10.08원, 1달러에 1138원이라고 가정하세요. 그리고 두 지점의 매출의 합이 원화로 담긴 numpy array를 만들어 출력해주세요.\n",
    "\n",
    "반복문은 사용하면 안 됩니다!\n",
    "\n",
    "주의: 자동 채점 과제입니다. 정답 출력 코드는 print가 없는 방식으로 작성해 주세요. (예시: won_array)"
   ]
  },
  {
   "cell_type": "code",
   "execution_count": 49,
   "id": "d823c275",
   "metadata": {},
   "outputs": [
    {
     "data": {
      "text/plain": [
       "array([4389600., 5248000., 4818800., 5108200., 6825000., 3004400.,\n",
       "       3521400., 5817000., 5033400., 4630200., 5439800., 6220200.,\n",
       "       4900000., 4370000., 4253000., 5524400., 6421800., 6145400.,\n",
       "       5651200., 3560400., 3612400., 5150400., 6220200., 7016800.,\n",
       "       5589400., 6623400., 3560400., 3814000., 6018600., 5046400.,\n",
       "       4568400.])"
      ]
     },
     "execution_count": 49,
     "metadata": {},
     "output_type": "execute_result"
    }
   ],
   "source": [
    "import numpy as np\n",
    "\n",
    "revenue_in_yen = [\n",
    "    300000, 340000, 320000, 360000, \n",
    "    440000, 140000, 180000, 340000, \n",
    "    330000, 290000, 280000, 380000, \n",
    "    170000, 140000, 230000, 390000, \n",
    "    400000, 350000, 380000, 150000, \n",
    "    110000, 240000, 380000, 380000, \n",
    "    340000, 420000, 150000, 130000, \n",
    "    360000, 320000, 250000\n",
    "]\n",
    "\n",
    "revenue_in_dollar = [\n",
    "    1200, 1600, 1400, 1300, \n",
    "    2100, 1400, 1500, 2100, \n",
    "    1500, 1500, 2300, 2100, \n",
    "    2800, 2600, 1700, 1400, \n",
    "    2100, 2300, 1600, 1800, \n",
    "    2200, 2400, 2100, 2800, \n",
    "    1900, 2100, 1800, 2200, \n",
    "    2100, 1600, 1800\n",
    "]\n",
    "\n",
    "# 둘 다 array로 바꾸자\n",
    "yen_array = np.array(revenue_in_yen)\n",
    "dollar_array = np.array(revenue_in_dollar)\n",
    "\n",
    "won_array = yen_array*10.08 + dollar_array*1138\n",
    "\n",
    "\n",
    "# 테스트 코드\n",
    "won_array"
   ]
  },
  {
   "cell_type": "code",
   "execution_count": null,
   "id": "8889ac05",
   "metadata": {},
   "outputs": [],
   "source": []
  },
  {
   "cell_type": "markdown",
   "id": "d5e5c3fb",
   "metadata": {},
   "source": [
    "### 11. numpy 불린 연산"
   ]
  },
  {
   "cell_type": "code",
   "execution_count": 50,
   "id": "d1eda15d",
   "metadata": {},
   "outputs": [
    {
     "data": {
      "text/plain": [
       "array([False, False, False,  True,  True,  True,  True,  True])"
      ]
     },
     "execution_count": 50,
     "metadata": {},
     "output_type": "execute_result"
    }
   ],
   "source": [
    "# 냅다 array를 숫자와 비교할 수 있음\n",
    "# >>> 각 인덱스와 비교해서 True or False를 출력\n",
    "array1 = np.array([2,3,4,5,6,7,8,9,])\n",
    "array1 > 4"
   ]
  },
  {
   "cell_type": "code",
   "execution_count": 52,
   "id": "0f2820e8",
   "metadata": {},
   "outputs": [
    {
     "data": {
      "text/plain": [
       "array([ True, False,  True, False,  True, False,  True, False])"
      ]
     },
     "execution_count": 52,
     "metadata": {},
     "output_type": "execute_result"
    }
   ],
   "source": [
    "# 자체 연산하여 불린도 가능 \n",
    "array1 % 2 == 0"
   ]
  },
  {
   "cell_type": "code",
   "execution_count": 54,
   "id": "2a334f1c",
   "metadata": {},
   "outputs": [],
   "source": [
    "# booleans를 넣어두고, False값이 아닌 인덱스만 출력\n",
    "# where 사용"
   ]
  },
  {
   "cell_type": "markdown",
   "id": "850a3fe6",
   "metadata": {},
   "source": [
    "#### 응용 :: filter(필터링)\n",
    "- 특정 조건에 맞는 인덱스를 가져와 사용하고 싶을 때"
   ]
  },
  {
   "cell_type": "code",
   "execution_count": 55,
   "id": "38ab7368",
   "metadata": {},
   "outputs": [
    {
     "data": {
      "text/plain": [
       "array([False, False, False,  True,  True,  True,  True,  True])"
      ]
     },
     "execution_count": 55,
     "metadata": {},
     "output_type": "execute_result"
    }
   ],
   "source": [
    "array1 > 4"
   ]
  },
  {
   "cell_type": "code",
   "execution_count": 56,
   "id": "1dc77ec2",
   "metadata": {},
   "outputs": [
    {
     "data": {
      "text/plain": [
       "(array([3, 4, 5, 6, 7]),)"
      ]
     },
     "execution_count": 56,
     "metadata": {},
     "output_type": "execute_result"
    }
   ],
   "source": [
    "# 요소의 값이 4이상인 인덱스를 받아와 쓰고 싶다면? \n",
    "np.where(array1 > 4) # np.where에 넣어버림"
   ]
  },
  {
   "cell_type": "code",
   "execution_count": 58,
   "id": "7cbd012d",
   "metadata": {},
   "outputs": [
    {
     "data": {
      "text/plain": [
       "(array([3, 4, 5, 6, 7]),)"
      ]
     },
     "execution_count": 58,
     "metadata": {},
     "output_type": "execute_result"
    }
   ],
   "source": [
    "# filter에 저장\n",
    "filter = np.where(array1 > 4)\n",
    "filter"
   ]
  },
  {
   "cell_type": "code",
   "execution_count": 61,
   "id": "d5c478e8",
   "metadata": {},
   "outputs": [
    {
     "data": {
      "text/plain": [
       "array([5, 6, 7, 8, 9])"
      ]
     },
     "execution_count": 61,
     "metadata": {},
     "output_type": "execute_result"
    }
   ],
   "source": [
    "# 그걸 다시 배열에 넣으면\n",
    "array1[filter] # 인덱스 값으로써 넣음"
   ]
  },
  {
   "cell_type": "code",
   "execution_count": null,
   "id": "e10ad603",
   "metadata": {},
   "outputs": [],
   "source": []
  },
  {
   "cell_type": "markdown",
   "id": "3ed079a0",
   "metadata": {},
   "source": [
    "### 12. [실습] 흥부부대찌개 목표 일 매출"
   ]
  },
  {
   "cell_type": "raw",
   "id": "ecacdbf0",
   "metadata": {},
   "source": [
    "영훈이가 창업한 흥부부대찌개 신주쿠점은 이제 직장인들에게 소문난 맛집입니다. 그러나 매일같이 성공적인 것은 아닙니다. 목표 일 매출을 달성하지 못하는 날들이 아직 꽤 있거든요. 영훈이가 생각하는 성공적인 하루 매출은 20만 엔입니다.\n",
    "\n",
    "성공적이지 않은 날의 매출만 골라서 보고 싶습니다. 20만 엔 이하의 매출만 담긴 numpy array를 출력해주세요.\n",
    "반복문은 사용하면 안 됩니다!\n",
    "\n",
    "주의 사항: 자동 채점 과제입니다. 정답 출력 코드는 print 없이 작성해 주세요. (예시: bad_days_revenue)"
   ]
  },
  {
   "cell_type": "code",
   "execution_count": 80,
   "id": "2a42f0ca",
   "metadata": {},
   "outputs": [
    {
     "data": {
      "text/plain": [
       "array([140000, 180000, 170000, 140000, 150000, 110000, 150000, 130000])"
      ]
     },
     "execution_count": 80,
     "metadata": {},
     "output_type": "execute_result"
    }
   ],
   "source": [
    "import numpy as np\n",
    "\n",
    "revenue_in_yen = [\n",
    "    300000, 340000, 320000, 360000, \n",
    "    440000, 140000, 180000, 340000, \n",
    "    330000, 290000, 280000, 380000, \n",
    "    170000, 140000, 230000, 390000, \n",
    "    400000, 350000, 380000, 150000, \n",
    "    110000, 240000, 380000, 380000, \n",
    "    340000, 420000, 150000, 130000, \n",
    "    360000, 320000, 250000\n",
    "]\n",
    "\n",
    "# array로 바꾸기 (위에는 리스트임)\n",
    "array_in_yen = np.array(revenue_in_yen)\n",
    "\n",
    "## \"주어진 조건에 해당하는 'filter'를 만들어준다. \"\n",
    "# 매출이 20만엔 이하인 날의 인덱스를 추출\n",
    "# filter에 그 인덱스 값들의 인덱스를 넣음 (filter는 인덱스 값을 가리킨다.)\n",
    "filter = np.where(array_in_yen <= 200000)\n",
    "\n",
    "# bad_days_revenue의 인덱스로서 filter를 삽입\n",
    "#bad_days_revenue = np.array(array_in_yen[filter])\n",
    "# bad_days_revenue에 넣는 모범답안\n",
    "bad_days_revenue = array_in_yen[filter]\n",
    "\n",
    "##########\n",
    "# filter 만들지 않고 바로 인덱싱하는 방법\n",
    "# 어쨋든 filter로 인덱싱을 거르는 거니까. 바로 인덱스에 접근하는 방법도 있음!!\n",
    "# bad_days_revenue = yen_array[yen_array <= 200000]\n",
    "##########\n",
    "\n",
    "# 테스트 코드\n",
    "bad_days_revenue"
   ]
  },
  {
   "cell_type": "code",
   "execution_count": null,
   "id": "52ceee20",
   "metadata": {},
   "outputs": [],
   "source": []
  },
  {
   "cell_type": "markdown",
   "id": "e71762a0",
   "metadata": {},
   "source": [
    "### 13. numpy array vs. python list"
   ]
  },
  {
   "cell_type": "markdown",
   "id": "9ae4ba02",
   "metadata": {},
   "source": [
    "### 왜 numpy array를 사용하는것인가?\n",
    "- numpy가 방대한 양의 데이터를 빠른속도로 처리할 수 있다.\n",
    "\n",
    "### <array 와 list의 차이>\n",
    "#### '저장되는 방식'의 차이\n",
    "- 파이썬 리스트\n",
    "    - 다양한 자료형들이 들어갈 수 있음\n",
    "    - => 값을 추가하고 제거하는 일\n",
    "- numpy array \n",
    "    - 같은 자료형의 값ㄷ르만 들어갈 수 있음\n",
    "    - => 수치 계산이 많고 복잡할 때\n",
    "    - => 행렬같은 다차원 배열의 경우 "
   ]
  },
  {
   "cell_type": "code",
   "execution_count": null,
   "id": "47ef7ce3",
   "metadata": {},
   "outputs": [],
   "source": []
  },
  {
   "cell_type": "markdown",
   "id": "c0c10ff2",
   "metadata": {},
   "source": [
    "### 14. numpy 기본 통계"
   ]
  },
  {
   "cell_type": "code",
   "execution_count": 81,
   "id": "5aa99564",
   "metadata": {
    "scrolled": true
   },
   "outputs": [
    {
     "data": {
      "text/plain": [
       "9"
      ]
     },
     "execution_count": 81,
     "metadata": {},
     "output_type": "execute_result"
    }
   ],
   "source": [
    "# 최댓값, 최솟값\n",
    "array1.max()\n",
    "array1.min()\n",
    "\n",
    "# 평균값\n",
    "array1.mean()\n",
    "\n",
    "# 중앙값 \n",
    "# median은 numpy array의 메소드가 아니라 numpy의 메소드입니다.\n",
    "# 짝수개의 요소가 있을 경우 : 중앙값이 두개 -> 둘의 평균값이 중앙값이 된다. \n",
    "np.median(array1)\n",
    "\n",
    "# 표준편차, 분산\n",
    "# 표준 편차와 분산은 값들이 평균에서 얼마나 떨어져 있는지 나타내는 지표\n",
    "array1.std()\n",
    "array1.var() "
   ]
  },
  {
   "cell_type": "code",
   "execution_count": null,
   "id": "f952e4e2",
   "metadata": {},
   "outputs": [],
   "source": []
  }
 ],
 "metadata": {
  "kernelspec": {
   "display_name": "Python 3 (ipykernel)",
   "language": "python",
   "name": "python3"
  },
  "language_info": {
   "codemirror_mode": {
    "name": "ipython",
    "version": 3
   },
   "file_extension": ".py",
   "mimetype": "text/x-python",
   "name": "python",
   "nbconvert_exporter": "python",
   "pygments_lexer": "ipython3",
   "version": "3.9.13"
  }
 },
 "nbformat": 4,
 "nbformat_minor": 5
}
