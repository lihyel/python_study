{
 "cells": [
  {
   "cell_type": "markdown",
   "metadata": {
    "id": "DjHd_VhAHTrO"
   },
   "source": [
    "### 자꾸 까먹는 메소드 정리\n",
    "1. 특정 컬럼으로 내림차순 정렬하기\n",
    "- df.sort_values(by=['기준 컬럼명'], ascending = False)\n",
    "2. 특정 컬럼 기준, 값 세기\n",
    "- ex) '차 브랜드' 컬럼의 차 브랜드별로 몇 개의 데이터가 있는지\n",
    "  - df['  '].value_counts()\n",
    "    - df 자체 적용 X. 특정 칼럼 지정 적용 O\n",
    "- 중복 값 제외하여 개수 세기\n",
    "  - df['  '].unique()"
   ]
  },
  {
   "cell_type": "markdown",
   "metadata": {
    "id": "uc10JggE0039"
   },
   "source": [
    "### 03. [실습] 여행지 선정하기(1)"
   ]
  },
  {
   "cell_type": "code",
   "execution_count": null,
   "metadata": {
    "id": "Vh1oHcL9ximt"
   },
   "outputs": [],
   "source": [
    "import pandas as pd"
   ]
  },
  {
   "cell_type": "code",
   "execution_count": null,
   "metadata": {
    "colab": {
     "base_uri": "https://localhost:8080/",
     "height": 424
    },
    "executionInfo": {
     "elapsed": 364,
     "status": "ok",
     "timestamp": 1693355121014,
     "user": {
      "displayName": "Hyeri Lee",
      "userId": "05861103522552969648"
     },
     "user_tz": -540
    },
    "id": "mnQ00NrizgbD",
    "outputId": "85fade84-21f1-451a-ef61-06c81cdbc3fb"
   },
   "outputs": [
    {
     "data": {
      "text/html": [
       "\n",
       "  <div id=\"df-667f9c3f-7f71-47a3-a7e0-9393c5f5376a\" class=\"colab-df-container\">\n",
       "    <div>\n",
       "<style scoped>\n",
       "    .dataframe tbody tr th:only-of-type {\n",
       "        vertical-align: middle;\n",
       "    }\n",
       "\n",
       "    .dataframe tbody tr th {\n",
       "        vertical-align: top;\n",
       "    }\n",
       "\n",
       "    .dataframe thead th {\n",
       "        text-align: right;\n",
       "    }\n",
       "</style>\n",
       "<table border=\"1\" class=\"dataframe\">\n",
       "  <thead>\n",
       "    <tr style=\"text-align: right;\">\n",
       "      <th></th>\n",
       "      <th>Unnamed: 0</th>\n",
       "      <th>City / Urban area</th>\n",
       "      <th>Country</th>\n",
       "      <th>Population</th>\n",
       "      <th>Land area (in sqKm)</th>\n",
       "    </tr>\n",
       "  </thead>\n",
       "  <tbody>\n",
       "    <tr>\n",
       "      <th>0</th>\n",
       "      <td>0</td>\n",
       "      <td>Buenos Aires</td>\n",
       "      <td>Argentina</td>\n",
       "      <td>11200000</td>\n",
       "      <td>2266</td>\n",
       "    </tr>\n",
       "    <tr>\n",
       "      <th>1</th>\n",
       "      <td>1</td>\n",
       "      <td>Melbourne</td>\n",
       "      <td>Australia</td>\n",
       "      <td>3162000</td>\n",
       "      <td>2080</td>\n",
       "    </tr>\n",
       "    <tr>\n",
       "      <th>2</th>\n",
       "      <td>2</td>\n",
       "      <td>Sydney</td>\n",
       "      <td>Australia</td>\n",
       "      <td>3502000</td>\n",
       "      <td>1687</td>\n",
       "    </tr>\n",
       "    <tr>\n",
       "      <th>3</th>\n",
       "      <td>3</td>\n",
       "      <td>Brisbane</td>\n",
       "      <td>Australia</td>\n",
       "      <td>1508000</td>\n",
       "      <td>1603</td>\n",
       "    </tr>\n",
       "    <tr>\n",
       "      <th>4</th>\n",
       "      <td>4</td>\n",
       "      <td>Perth</td>\n",
       "      <td>Australia</td>\n",
       "      <td>1177000</td>\n",
       "      <td>964</td>\n",
       "    </tr>\n",
       "    <tr>\n",
       "      <th>...</th>\n",
       "      <td>...</td>\n",
       "      <td>...</td>\n",
       "      <td>...</td>\n",
       "      <td>...</td>\n",
       "      <td>...</td>\n",
       "    </tr>\n",
       "    <tr>\n",
       "      <th>244</th>\n",
       "      <td>245</td>\n",
       "      <td>Canton</td>\n",
       "      <td>USA</td>\n",
       "      <td>267000</td>\n",
       "      <td>372</td>\n",
       "    </tr>\n",
       "    <tr>\n",
       "      <th>245</th>\n",
       "      <td>246</td>\n",
       "      <td>Spokane</td>\n",
       "      <td>USA</td>\n",
       "      <td>335000</td>\n",
       "      <td>371</td>\n",
       "    </tr>\n",
       "    <tr>\n",
       "      <th>246</th>\n",
       "      <td>247</td>\n",
       "      <td>Tashkent</td>\n",
       "      <td>Uzbekistan</td>\n",
       "      <td>2200000</td>\n",
       "      <td>531</td>\n",
       "    </tr>\n",
       "    <tr>\n",
       "      <th>247</th>\n",
       "      <td>248</td>\n",
       "      <td>Ho Chi Minh City</td>\n",
       "      <td>Vietnam</td>\n",
       "      <td>4900000</td>\n",
       "      <td>518</td>\n",
       "    </tr>\n",
       "    <tr>\n",
       "      <th>248</th>\n",
       "      <td>249</td>\n",
       "      <td>Harare</td>\n",
       "      <td>Zimbabwe</td>\n",
       "      <td>1750000</td>\n",
       "      <td>712</td>\n",
       "    </tr>\n",
       "  </tbody>\n",
       "</table>\n",
       "<p>249 rows × 5 columns</p>\n",
       "</div>\n",
       "    <div class=\"colab-df-buttons\">\n",
       "\n",
       "  <div class=\"colab-df-container\">\n",
       "    <button class=\"colab-df-convert\" onclick=\"convertToInteractive('df-667f9c3f-7f71-47a3-a7e0-9393c5f5376a')\"\n",
       "            title=\"Convert this dataframe to an interactive table.\"\n",
       "            style=\"display:none;\">\n",
       "\n",
       "  <svg xmlns=\"http://www.w3.org/2000/svg\" height=\"24px\" viewBox=\"0 -960 960 960\">\n",
       "    <path d=\"M120-120v-720h720v720H120Zm60-500h600v-160H180v160Zm220 220h160v-160H400v160Zm0 220h160v-160H400v160ZM180-400h160v-160H180v160Zm440 0h160v-160H620v160ZM180-180h160v-160H180v160Zm440 0h160v-160H620v160Z\"/>\n",
       "  </svg>\n",
       "    </button>\n",
       "\n",
       "  <style>\n",
       "    .colab-df-container {\n",
       "      display:flex;\n",
       "      gap: 12px;\n",
       "    }\n",
       "\n",
       "    .colab-df-convert {\n",
       "      background-color: #E8F0FE;\n",
       "      border: none;\n",
       "      border-radius: 50%;\n",
       "      cursor: pointer;\n",
       "      display: none;\n",
       "      fill: #1967D2;\n",
       "      height: 32px;\n",
       "      padding: 0 0 0 0;\n",
       "      width: 32px;\n",
       "    }\n",
       "\n",
       "    .colab-df-convert:hover {\n",
       "      background-color: #E2EBFA;\n",
       "      box-shadow: 0px 1px 2px rgba(60, 64, 67, 0.3), 0px 1px 3px 1px rgba(60, 64, 67, 0.15);\n",
       "      fill: #174EA6;\n",
       "    }\n",
       "\n",
       "    .colab-df-buttons div {\n",
       "      margin-bottom: 4px;\n",
       "    }\n",
       "\n",
       "    [theme=dark] .colab-df-convert {\n",
       "      background-color: #3B4455;\n",
       "      fill: #D2E3FC;\n",
       "    }\n",
       "\n",
       "    [theme=dark] .colab-df-convert:hover {\n",
       "      background-color: #434B5C;\n",
       "      box-shadow: 0px 1px 3px 1px rgba(0, 0, 0, 0.15);\n",
       "      filter: drop-shadow(0px 1px 2px rgba(0, 0, 0, 0.3));\n",
       "      fill: #FFFFFF;\n",
       "    }\n",
       "  </style>\n",
       "\n",
       "    <script>\n",
       "      const buttonEl =\n",
       "        document.querySelector('#df-667f9c3f-7f71-47a3-a7e0-9393c5f5376a button.colab-df-convert');\n",
       "      buttonEl.style.display =\n",
       "        google.colab.kernel.accessAllowed ? 'block' : 'none';\n",
       "\n",
       "      async function convertToInteractive(key) {\n",
       "        const element = document.querySelector('#df-667f9c3f-7f71-47a3-a7e0-9393c5f5376a');\n",
       "        const dataTable =\n",
       "          await google.colab.kernel.invokeFunction('convertToInteractive',\n",
       "                                                    [key], {});\n",
       "        if (!dataTable) return;\n",
       "\n",
       "        const docLinkHtml = 'Like what you see? Visit the ' +\n",
       "          '<a target=\"_blank\" href=https://colab.research.google.com/notebooks/data_table.ipynb>data table notebook</a>'\n",
       "          + ' to learn more about interactive tables.';\n",
       "        element.innerHTML = '';\n",
       "        dataTable['output_type'] = 'display_data';\n",
       "        await google.colab.output.renderOutput(dataTable, element);\n",
       "        const docLink = document.createElement('div');\n",
       "        docLink.innerHTML = docLinkHtml;\n",
       "        element.appendChild(docLink);\n",
       "      }\n",
       "    </script>\n",
       "  </div>\n",
       "\n",
       "\n",
       "<div id=\"df-013af351-c2d4-482e-b93e-9b92b41af055\">\n",
       "  <button class=\"colab-df-quickchart\" onclick=\"quickchart('df-013af351-c2d4-482e-b93e-9b92b41af055')\"\n",
       "            title=\"Suggest charts.\"\n",
       "            style=\"display:none;\">\n",
       "\n",
       "<svg xmlns=\"http://www.w3.org/2000/svg\" height=\"24px\"viewBox=\"0 0 24 24\"\n",
       "     width=\"24px\">\n",
       "    <g>\n",
       "        <path d=\"M19 3H5c-1.1 0-2 .9-2 2v14c0 1.1.9 2 2 2h14c1.1 0 2-.9 2-2V5c0-1.1-.9-2-2-2zM9 17H7v-7h2v7zm4 0h-2V7h2v10zm4 0h-2v-4h2v4z\"/>\n",
       "    </g>\n",
       "</svg>\n",
       "  </button>\n",
       "\n",
       "<style>\n",
       "  .colab-df-quickchart {\n",
       "    background-color: #E8F0FE;\n",
       "    border: none;\n",
       "    border-radius: 50%;\n",
       "    cursor: pointer;\n",
       "    display: none;\n",
       "    fill: #1967D2;\n",
       "    height: 32px;\n",
       "    padding: 0 0 0 0;\n",
       "    width: 32px;\n",
       "  }\n",
       "\n",
       "  .colab-df-quickchart:hover {\n",
       "    background-color: #E2EBFA;\n",
       "    box-shadow: 0px 1px 2px rgba(60, 64, 67, 0.3), 0px 1px 3px 1px rgba(60, 64, 67, 0.15);\n",
       "    fill: #174EA6;\n",
       "  }\n",
       "\n",
       "  [theme=dark] .colab-df-quickchart {\n",
       "    background-color: #3B4455;\n",
       "    fill: #D2E3FC;\n",
       "  }\n",
       "\n",
       "  [theme=dark] .colab-df-quickchart:hover {\n",
       "    background-color: #434B5C;\n",
       "    box-shadow: 0px 1px 3px 1px rgba(0, 0, 0, 0.15);\n",
       "    filter: drop-shadow(0px 1px 2px rgba(0, 0, 0, 0.3));\n",
       "    fill: #FFFFFF;\n",
       "  }\n",
       "</style>\n",
       "\n",
       "  <script>\n",
       "    async function quickchart(key) {\n",
       "      const charts = await google.colab.kernel.invokeFunction(\n",
       "          'suggestCharts', [key], {});\n",
       "    }\n",
       "    (() => {\n",
       "      let quickchartButtonEl =\n",
       "        document.querySelector('#df-013af351-c2d4-482e-b93e-9b92b41af055 button');\n",
       "      quickchartButtonEl.style.display =\n",
       "        google.colab.kernel.accessAllowed ? 'block' : 'none';\n",
       "    })();\n",
       "  </script>\n",
       "</div>\n",
       "    </div>\n",
       "  </div>\n"
      ],
      "text/plain": [
       "     Unnamed: 0 City / Urban area     Country  Population  Land area (in sqKm)\n",
       "0             0      Buenos Aires   Argentina    11200000                 2266\n",
       "1             1         Melbourne   Australia     3162000                 2080\n",
       "2             2            Sydney   Australia     3502000                 1687\n",
       "3             3          Brisbane   Australia     1508000                 1603\n",
       "4             4             Perth   Australia     1177000                  964\n",
       "..          ...               ...         ...         ...                  ...\n",
       "244         245            Canton         USA      267000                  372\n",
       "245         246           Spokane         USA      335000                  371\n",
       "246         247          Tashkent  Uzbekistan     2200000                  531\n",
       "247         248  Ho Chi Minh City     Vietnam     4900000                  518\n",
       "248         249            Harare    Zimbabwe     1750000                  712\n",
       "\n",
       "[249 rows x 5 columns]"
      ]
     },
     "execution_count": 4,
     "metadata": {},
     "output_type": "execute_result"
    }
   ],
   "source": [
    "df = pd.read_csv('/content/drive/MyDrive/Colab Notebooks/data/world_cities.csv')\n",
    "df"
   ]
  },
  {
   "cell_type": "markdown",
   "metadata": {
    "id": "knAhbzx01Wcz"
   },
   "source": [
    "#### 질문2\n",
    "사람 만나기를 좋아하는 익중이는 가장 사람이 붐비는 도시로 여행을 가기로 마음 먹었습니다. 주어진 데이터에서, 인구 밀도(명/sqKm) 가 10000 이 넘는 도시는 총 몇 개인지 알아보세요.\n",
    "\n",
    "참고로 인구 밀도는 인구 수 / 땅의 면적 (in sqKm) 로 구할 수 있습니다.\n",
    "\n",
    "답안은 숫자로만 입력해 주세요. (예시: 24)"
   ]
  },
  {
   "cell_type": "code",
   "execution_count": null,
   "metadata": {
    "colab": {
     "base_uri": "https://localhost:8080/"
    },
    "executionInfo": {
     "elapsed": 5,
     "status": "ok",
     "timestamp": 1693357257990,
     "user": {
      "displayName": "Hyeri Lee",
      "userId": "05861103522552969648"
     },
     "user_tz": -540
    },
    "id": "yC8y3RvD1NuE",
    "outputId": "ae4e92e9-75d5-41b8-d418-5553db8b79ef"
   },
   "outputs": [
    {
     "data": {
      "text/plain": [
       "Unnamed: 0             19\n",
       "City / Urban area      19\n",
       "Country                19\n",
       "Population             19\n",
       "Land area (in sqKm)    19\n",
       "dtype: int64"
      ]
     },
     "execution_count": 18,
     "metadata": {},
     "output_type": "execute_result"
    }
   ],
   "source": [
    "df[(df['Population'] / df['Land area (in sqKm)']) > 10000].count()\n",
    "# 19개"
   ]
  },
  {
   "cell_type": "code",
   "execution_count": null,
   "metadata": {
    "colab": {
     "base_uri": "https://localhost:8080/"
    },
    "executionInfo": {
     "elapsed": 2,
     "status": "ok",
     "timestamp": 1693357469028,
     "user": {
      "displayName": "Hyeri Lee",
      "userId": "05861103522552969648"
     },
     "user_tz": -540
    },
    "id": "WEs8hHlJ9l75",
    "outputId": "2494d103-4521-43fd-8a93-0d198e0fa739"
   },
   "outputs": [
    {
     "name": "stdout",
     "output_type": "stream",
     "text": [
      "<class 'pandas.core.frame.DataFrame'>\n",
      "Int64Index: 19 entries, 32 to 129\n",
      "Data columns (total 7 columns):\n",
      " #   Column               Non-Null Count  Dtype  \n",
      "---  ------               --------------  -----  \n",
      " 0   Unnamed: 0           19 non-null     int64  \n",
      " 1   City / Urban area    19 non-null     object \n",
      " 2   Country              19 non-null     object \n",
      " 3   Population           19 non-null     int64  \n",
      " 4   Land area (in sqKm)  19 non-null     int64  \n",
      " 5   density              19 non-null     float64\n",
      " 6   Density              19 non-null     float64\n",
      "dtypes: float64(2), int64(3), object(2)\n",
      "memory usage: 1.2+ KB\n"
     ]
    }
   ],
   "source": [
    "# 모범 답안\n",
    "# 1. 인구 밀도 계산\n",
    "# density라는 열 생성\n",
    "df['Density'] =  df[\"Population\"] / df[\"Land area (in sqKm)\"]\n",
    "# 2. 계산한 인구 밀도에 불린 연산을 적용하여 인덱싱... // 새로운  df 생성\n",
    "# 내가 했던 것을 1번 과정을 거치면서 보기 좋은 코드로 한 버전으로 생각하면 됨.\n",
    "df_high_density = df[df[\"Density\"] > 10000]\n",
    "# 3. df_high_density에 총 몇 개의 데이터가 있는지 확인 :: info() 메소드\n",
    "df_high_density.info()"
   ]
  },
  {
   "cell_type": "markdown",
   "metadata": {
    "id": "rJrKChu1-MF5"
   },
   "source": [
    "#### 질문 3\n",
    "이번에는 인구 밀도가 가장 높은 도시를 찾아봅시다.\n",
    "\n",
    "답안은 데이터에 적힌 이름을 그대로 입력해 주세요. (예시: Seoul)"
   ]
  },
  {
   "cell_type": "code",
   "execution_count": null,
   "metadata": {
    "colab": {
     "base_uri": "https://localhost:8080/",
     "height": 645
    },
    "executionInfo": {
     "elapsed": 4,
     "status": "ok",
     "timestamp": 1693359640464,
     "user": {
      "displayName": "Hyeri Lee",
      "userId": "05861103522552969648"
     },
     "user_tz": -540
    },
    "id": "_bwK_CaX539c",
    "outputId": "9b1c7243-6812-4a19-cc30-ace7f95c7ce9"
   },
   "outputs": [
    {
     "data": {
      "text/html": [
       "\n",
       "  <div id=\"df-e28f2214-a946-4a83-a156-4cf798df8748\" class=\"colab-df-container\">\n",
       "    <div>\n",
       "<style scoped>\n",
       "    .dataframe tbody tr th:only-of-type {\n",
       "        vertical-align: middle;\n",
       "    }\n",
       "\n",
       "    .dataframe tbody tr th {\n",
       "        vertical-align: top;\n",
       "    }\n",
       "\n",
       "    .dataframe thead th {\n",
       "        text-align: right;\n",
       "    }\n",
       "</style>\n",
       "<table border=\"1\" class=\"dataframe\">\n",
       "  <thead>\n",
       "    <tr style=\"text-align: right;\">\n",
       "      <th></th>\n",
       "      <th>Unnamed: 0</th>\n",
       "      <th>City / Urban area</th>\n",
       "      <th>Country</th>\n",
       "      <th>Population</th>\n",
       "      <th>Land area (in sqKm)</th>\n",
       "      <th>density</th>\n",
       "      <th>Density</th>\n",
       "    </tr>\n",
       "  </thead>\n",
       "  <tbody>\n",
       "    <tr>\n",
       "      <th>75</th>\n",
       "      <td>75</td>\n",
       "      <td>Mumbai</td>\n",
       "      <td>India</td>\n",
       "      <td>14350000</td>\n",
       "      <td>484</td>\n",
       "      <td>29648.760331</td>\n",
       "      <td>29648.760331</td>\n",
       "    </tr>\n",
       "    <tr>\n",
       "      <th>74</th>\n",
       "      <td>74</td>\n",
       "      <td>Kolkata</td>\n",
       "      <td>India</td>\n",
       "      <td>12700000</td>\n",
       "      <td>531</td>\n",
       "      <td>23917.137476</td>\n",
       "      <td>23917.137476</td>\n",
       "    </tr>\n",
       "    <tr>\n",
       "      <th>101</th>\n",
       "      <td>101</td>\n",
       "      <td>Karachi</td>\n",
       "      <td>Pakistan</td>\n",
       "      <td>9800000</td>\n",
       "      <td>518</td>\n",
       "      <td>18918.918919</td>\n",
       "      <td>18918.918919</td>\n",
       "    </tr>\n",
       "    <tr>\n",
       "      <th>99</th>\n",
       "      <td>99</td>\n",
       "      <td>Lagos</td>\n",
       "      <td>Nigeria</td>\n",
       "      <td>13400000</td>\n",
       "      <td>738</td>\n",
       "      <td>18157.181572</td>\n",
       "      <td>18157.181572</td>\n",
       "    </tr>\n",
       "    <tr>\n",
       "      <th>34</th>\n",
       "      <td>34</td>\n",
       "      <td>Shenzhen</td>\n",
       "      <td>China</td>\n",
       "      <td>8000000</td>\n",
       "      <td>466</td>\n",
       "      <td>17167.381974</td>\n",
       "      <td>17167.381974</td>\n",
       "    </tr>\n",
       "    <tr>\n",
       "      <th>123</th>\n",
       "      <td>123</td>\n",
       "      <td>Seoul/Incheon</td>\n",
       "      <td>South Korea</td>\n",
       "      <td>17500000</td>\n",
       "      <td>1049</td>\n",
       "      <td>16682.554814</td>\n",
       "      <td>16682.554814</td>\n",
       "    </tr>\n",
       "    <tr>\n",
       "      <th>129</th>\n",
       "      <td>129</td>\n",
       "      <td>Taipei</td>\n",
       "      <td>Taiwan</td>\n",
       "      <td>5700000</td>\n",
       "      <td>376</td>\n",
       "      <td>15159.574468</td>\n",
       "      <td>15159.574468</td>\n",
       "    </tr>\n",
       "    <tr>\n",
       "      <th>76</th>\n",
       "      <td>76</td>\n",
       "      <td>Chennai</td>\n",
       "      <td>India</td>\n",
       "      <td>5950000</td>\n",
       "      <td>414</td>\n",
       "      <td>14371.980676</td>\n",
       "      <td>14371.980676</td>\n",
       "    </tr>\n",
       "    <tr>\n",
       "      <th>38</th>\n",
       "      <td>38</td>\n",
       "      <td>Bogota</td>\n",
       "      <td>Colombia</td>\n",
       "      <td>7000000</td>\n",
       "      <td>518</td>\n",
       "      <td>13513.513514</td>\n",
       "      <td>13513.513514</td>\n",
       "    </tr>\n",
       "    <tr>\n",
       "      <th>33</th>\n",
       "      <td>33</td>\n",
       "      <td>Shanghai</td>\n",
       "      <td>China</td>\n",
       "      <td>10000000</td>\n",
       "      <td>746</td>\n",
       "      <td>13404.825737</td>\n",
       "      <td>13404.825737</td>\n",
       "    </tr>\n",
       "    <tr>\n",
       "      <th>102</th>\n",
       "      <td>102</td>\n",
       "      <td>Lima</td>\n",
       "      <td>Peru</td>\n",
       "      <td>7000000</td>\n",
       "      <td>596</td>\n",
       "      <td>11744.966443</td>\n",
       "      <td>11744.966443</td>\n",
       "    </tr>\n",
       "    <tr>\n",
       "      <th>32</th>\n",
       "      <td>32</td>\n",
       "      <td>Beijing</td>\n",
       "      <td>China</td>\n",
       "      <td>8614000</td>\n",
       "      <td>748</td>\n",
       "      <td>11516.042781</td>\n",
       "      <td>11516.042781</td>\n",
       "    </tr>\n",
       "    <tr>\n",
       "      <th>71</th>\n",
       "      <td>71</td>\n",
       "      <td>Delhi</td>\n",
       "      <td>India</td>\n",
       "      <td>14300000</td>\n",
       "      <td>1295</td>\n",
       "      <td>11042.471042</td>\n",
       "      <td>11042.471042</td>\n",
       "    </tr>\n",
       "    <tr>\n",
       "      <th>39</th>\n",
       "      <td>39</td>\n",
       "      <td>Kinshasa</td>\n",
       "      <td>Congo</td>\n",
       "      <td>5000000</td>\n",
       "      <td>469</td>\n",
       "      <td>10660.980810</td>\n",
       "      <td>10660.980810</td>\n",
       "    </tr>\n",
       "    <tr>\n",
       "      <th>78</th>\n",
       "      <td>78</td>\n",
       "      <td>Tehran</td>\n",
       "      <td>Iran</td>\n",
       "      <td>7250000</td>\n",
       "      <td>686</td>\n",
       "      <td>10568.513120</td>\n",
       "      <td>10568.513120</td>\n",
       "    </tr>\n",
       "    <tr>\n",
       "      <th>103</th>\n",
       "      <td>103</td>\n",
       "      <td>Manila</td>\n",
       "      <td>Philippines</td>\n",
       "      <td>14750000</td>\n",
       "      <td>1399</td>\n",
       "      <td>10543.245175</td>\n",
       "      <td>10543.245175</td>\n",
       "    </tr>\n",
       "    <tr>\n",
       "      <th>36</th>\n",
       "      <td>36</td>\n",
       "      <td>Tianjin</td>\n",
       "      <td>China</td>\n",
       "      <td>4750000</td>\n",
       "      <td>453</td>\n",
       "      <td>10485.651214</td>\n",
       "      <td>10485.651214</td>\n",
       "    </tr>\n",
       "    <tr>\n",
       "      <th>77</th>\n",
       "      <td>77</td>\n",
       "      <td>Jakarta</td>\n",
       "      <td>Indonesia</td>\n",
       "      <td>14250000</td>\n",
       "      <td>1360</td>\n",
       "      <td>10477.941176</td>\n",
       "      <td>10477.941176</td>\n",
       "    </tr>\n",
       "    <tr>\n",
       "      <th>73</th>\n",
       "      <td>73</td>\n",
       "      <td>Bangalore</td>\n",
       "      <td>India</td>\n",
       "      <td>5400000</td>\n",
       "      <td>534</td>\n",
       "      <td>10112.359551</td>\n",
       "      <td>10112.359551</td>\n",
       "    </tr>\n",
       "  </tbody>\n",
       "</table>\n",
       "</div>\n",
       "    <div class=\"colab-df-buttons\">\n",
       "\n",
       "  <div class=\"colab-df-container\">\n",
       "    <button class=\"colab-df-convert\" onclick=\"convertToInteractive('df-e28f2214-a946-4a83-a156-4cf798df8748')\"\n",
       "            title=\"Convert this dataframe to an interactive table.\"\n",
       "            style=\"display:none;\">\n",
       "\n",
       "  <svg xmlns=\"http://www.w3.org/2000/svg\" height=\"24px\" viewBox=\"0 -960 960 960\">\n",
       "    <path d=\"M120-120v-720h720v720H120Zm60-500h600v-160H180v160Zm220 220h160v-160H400v160Zm0 220h160v-160H400v160ZM180-400h160v-160H180v160Zm440 0h160v-160H620v160ZM180-180h160v-160H180v160Zm440 0h160v-160H620v160Z\"/>\n",
       "  </svg>\n",
       "    </button>\n",
       "\n",
       "  <style>\n",
       "    .colab-df-container {\n",
       "      display:flex;\n",
       "      gap: 12px;\n",
       "    }\n",
       "\n",
       "    .colab-df-convert {\n",
       "      background-color: #E8F0FE;\n",
       "      border: none;\n",
       "      border-radius: 50%;\n",
       "      cursor: pointer;\n",
       "      display: none;\n",
       "      fill: #1967D2;\n",
       "      height: 32px;\n",
       "      padding: 0 0 0 0;\n",
       "      width: 32px;\n",
       "    }\n",
       "\n",
       "    .colab-df-convert:hover {\n",
       "      background-color: #E2EBFA;\n",
       "      box-shadow: 0px 1px 2px rgba(60, 64, 67, 0.3), 0px 1px 3px 1px rgba(60, 64, 67, 0.15);\n",
       "      fill: #174EA6;\n",
       "    }\n",
       "\n",
       "    .colab-df-buttons div {\n",
       "      margin-bottom: 4px;\n",
       "    }\n",
       "\n",
       "    [theme=dark] .colab-df-convert {\n",
       "      background-color: #3B4455;\n",
       "      fill: #D2E3FC;\n",
       "    }\n",
       "\n",
       "    [theme=dark] .colab-df-convert:hover {\n",
       "      background-color: #434B5C;\n",
       "      box-shadow: 0px 1px 3px 1px rgba(0, 0, 0, 0.15);\n",
       "      filter: drop-shadow(0px 1px 2px rgba(0, 0, 0, 0.3));\n",
       "      fill: #FFFFFF;\n",
       "    }\n",
       "  </style>\n",
       "\n",
       "    <script>\n",
       "      const buttonEl =\n",
       "        document.querySelector('#df-e28f2214-a946-4a83-a156-4cf798df8748 button.colab-df-convert');\n",
       "      buttonEl.style.display =\n",
       "        google.colab.kernel.accessAllowed ? 'block' : 'none';\n",
       "\n",
       "      async function convertToInteractive(key) {\n",
       "        const element = document.querySelector('#df-e28f2214-a946-4a83-a156-4cf798df8748');\n",
       "        const dataTable =\n",
       "          await google.colab.kernel.invokeFunction('convertToInteractive',\n",
       "                                                    [key], {});\n",
       "        if (!dataTable) return;\n",
       "\n",
       "        const docLinkHtml = 'Like what you see? Visit the ' +\n",
       "          '<a target=\"_blank\" href=https://colab.research.google.com/notebooks/data_table.ipynb>data table notebook</a>'\n",
       "          + ' to learn more about interactive tables.';\n",
       "        element.innerHTML = '';\n",
       "        dataTable['output_type'] = 'display_data';\n",
       "        await google.colab.output.renderOutput(dataTable, element);\n",
       "        const docLink = document.createElement('div');\n",
       "        docLink.innerHTML = docLinkHtml;\n",
       "        element.appendChild(docLink);\n",
       "      }\n",
       "    </script>\n",
       "  </div>\n",
       "\n",
       "\n",
       "<div id=\"df-7d04922a-f42a-4a98-938d-4e7f68c792c3\">\n",
       "  <button class=\"colab-df-quickchart\" onclick=\"quickchart('df-7d04922a-f42a-4a98-938d-4e7f68c792c3')\"\n",
       "            title=\"Suggest charts.\"\n",
       "            style=\"display:none;\">\n",
       "\n",
       "<svg xmlns=\"http://www.w3.org/2000/svg\" height=\"24px\"viewBox=\"0 0 24 24\"\n",
       "     width=\"24px\">\n",
       "    <g>\n",
       "        <path d=\"M19 3H5c-1.1 0-2 .9-2 2v14c0 1.1.9 2 2 2h14c1.1 0 2-.9 2-2V5c0-1.1-.9-2-2-2zM9 17H7v-7h2v7zm4 0h-2V7h2v10zm4 0h-2v-4h2v4z\"/>\n",
       "    </g>\n",
       "</svg>\n",
       "  </button>\n",
       "\n",
       "<style>\n",
       "  .colab-df-quickchart {\n",
       "    background-color: #E8F0FE;\n",
       "    border: none;\n",
       "    border-radius: 50%;\n",
       "    cursor: pointer;\n",
       "    display: none;\n",
       "    fill: #1967D2;\n",
       "    height: 32px;\n",
       "    padding: 0 0 0 0;\n",
       "    width: 32px;\n",
       "  }\n",
       "\n",
       "  .colab-df-quickchart:hover {\n",
       "    background-color: #E2EBFA;\n",
       "    box-shadow: 0px 1px 2px rgba(60, 64, 67, 0.3), 0px 1px 3px 1px rgba(60, 64, 67, 0.15);\n",
       "    fill: #174EA6;\n",
       "  }\n",
       "\n",
       "  [theme=dark] .colab-df-quickchart {\n",
       "    background-color: #3B4455;\n",
       "    fill: #D2E3FC;\n",
       "  }\n",
       "\n",
       "  [theme=dark] .colab-df-quickchart:hover {\n",
       "    background-color: #434B5C;\n",
       "    box-shadow: 0px 1px 3px 1px rgba(0, 0, 0, 0.15);\n",
       "    filter: drop-shadow(0px 1px 2px rgba(0, 0, 0, 0.3));\n",
       "    fill: #FFFFFF;\n",
       "  }\n",
       "</style>\n",
       "\n",
       "  <script>\n",
       "    async function quickchart(key) {\n",
       "      const charts = await google.colab.kernel.invokeFunction(\n",
       "          'suggestCharts', [key], {});\n",
       "    }\n",
       "    (() => {\n",
       "      let quickchartButtonEl =\n",
       "        document.querySelector('#df-7d04922a-f42a-4a98-938d-4e7f68c792c3 button');\n",
       "      quickchartButtonEl.style.display =\n",
       "        google.colab.kernel.accessAllowed ? 'block' : 'none';\n",
       "    })();\n",
       "  </script>\n",
       "</div>\n",
       "    </div>\n",
       "  </div>\n"
      ],
      "text/plain": [
       "     Unnamed: 0 City / Urban area      Country  Population  \\\n",
       "75           75            Mumbai        India    14350000   \n",
       "74           74           Kolkata        India    12700000   \n",
       "101         101           Karachi     Pakistan     9800000   \n",
       "99           99             Lagos      Nigeria    13400000   \n",
       "34           34          Shenzhen        China     8000000   \n",
       "123         123     Seoul/Incheon  South Korea    17500000   \n",
       "129         129            Taipei       Taiwan     5700000   \n",
       "76           76           Chennai        India     5950000   \n",
       "38           38            Bogota     Colombia     7000000   \n",
       "33           33          Shanghai        China    10000000   \n",
       "102         102              Lima         Peru     7000000   \n",
       "32           32           Beijing        China     8614000   \n",
       "71           71             Delhi        India    14300000   \n",
       "39           39          Kinshasa        Congo     5000000   \n",
       "78           78            Tehran         Iran     7250000   \n",
       "103         103            Manila  Philippines    14750000   \n",
       "36           36           Tianjin        China     4750000   \n",
       "77           77           Jakarta    Indonesia    14250000   \n",
       "73           73         Bangalore        India     5400000   \n",
       "\n",
       "     Land area (in sqKm)       density       Density  \n",
       "75                   484  29648.760331  29648.760331  \n",
       "74                   531  23917.137476  23917.137476  \n",
       "101                  518  18918.918919  18918.918919  \n",
       "99                   738  18157.181572  18157.181572  \n",
       "34                   466  17167.381974  17167.381974  \n",
       "123                 1049  16682.554814  16682.554814  \n",
       "129                  376  15159.574468  15159.574468  \n",
       "76                   414  14371.980676  14371.980676  \n",
       "38                   518  13513.513514  13513.513514  \n",
       "33                   746  13404.825737  13404.825737  \n",
       "102                  596  11744.966443  11744.966443  \n",
       "32                   748  11516.042781  11516.042781  \n",
       "71                  1295  11042.471042  11042.471042  \n",
       "39                   469  10660.980810  10660.980810  \n",
       "78                   686  10568.513120  10568.513120  \n",
       "103                 1399  10543.245175  10543.245175  \n",
       "36                   453  10485.651214  10485.651214  \n",
       "77                  1360  10477.941176  10477.941176  \n",
       "73                   534  10112.359551  10112.359551  "
      ]
     },
     "execution_count": 30,
     "metadata": {},
     "output_type": "execute_result"
    }
   ],
   "source": [
    "df_high_density.sort_values(by=['Density'], ascending=False)\n",
    "# Mumbai"
   ]
  },
  {
   "cell_type": "code",
   "execution_count": null,
   "metadata": {
    "colab": {
     "base_uri": "https://localhost:8080/"
    },
    "executionInfo": {
     "elapsed": 342,
     "status": "ok",
     "timestamp": 1693359837977,
     "user": {
      "displayName": "Hyeri Lee",
      "userId": "05861103522552969648"
     },
     "user_tz": -540
    },
    "id": "qHyW0fF4Fb3A",
    "outputId": "fbd7162d-b6b8-4a39-9e94-980fcd043b39"
   },
   "outputs": [
    {
     "data": {
      "text/plain": [
       "75              Mumbai\n",
       "74             Kolkata\n",
       "101            Karachi\n",
       "99               Lagos\n",
       "34            Shenzhen\n",
       "            ...       \n",
       "194        Chattanooga\n",
       "223          Asheville\n",
       "57                 Pau\n",
       "220            Hickory\n",
       "196    Barnstable Town\n",
       "Name: City / Urban area, Length: 249, dtype: object"
      ]
     },
     "execution_count": 31,
     "metadata": {},
     "output_type": "execute_result"
    }
   ],
   "source": [
    "# 모범답안\n",
    "# Tip: 보기 좋은 코드를 위해, 단계를 나누고, 필요한 변수를 지정해준다.\n",
    "# 1. 이미 위에서 df['Density']로 밀도 컬럼을 만들었으므로 1단계는 생략\n",
    "# 2. 인구 밀도를 기준으로 정렬 // 여기서 정렬한 것을 새로운 데이터프레임으로 저장\n",
    "density_ranks = df.sort_values(by=\"Density\", ascending = False)\n",
    "# 3. density_ranks 데이터프레임에서 도시 정보만 뽑아서 확인\n",
    "density_ranks['City / Urban area']"
   ]
  },
  {
   "cell_type": "code",
   "execution_count": null,
   "metadata": {
    "id": "s5DHqEXoHAF9"
   },
   "outputs": [],
   "source": []
  },
  {
   "cell_type": "markdown",
   "metadata": {
    "id": "MMhzkGZbMQnU"
   },
   "source": [
    "### 04. [실습] 여행지 선정하기(2)"
   ]
  },
  {
   "cell_type": "markdown",
   "metadata": {
    "id": "XVWrHY1pMaoT"
   },
   "source": [
    "#### 질문1\n",
    "익중이는 누나에게 여행지를 추천 받으려고 합니다.\n",
    "그런데 나라 이름이 기억나지 않고, 이 데이터에서 그 나라에 속한 도시가 딱 4개 들어 있었다는 것만 기억이 난다고 하네요. 이 나라는 무엇일까요?\n",
    "\n",
    "답안은 데이터에 적힌 이름 그대로 적어 주세요. (예시: France)"
   ]
  },
  {
   "cell_type": "code",
   "execution_count": null,
   "metadata": {
    "colab": {
     "base_uri": "https://localhost:8080/"
    },
    "executionInfo": {
     "elapsed": 2,
     "status": "ok",
     "timestamp": 1693364538855,
     "user": {
      "displayName": "Hyeri Lee",
      "userId": "05861103522552969648"
     },
     "user_tz": -540
    },
    "id": "1sk2FIjKMWAc",
    "outputId": "32cbdb1a-ad14-4952-84d4-ec5e1c7b5c2d"
   },
   "outputs": [
    {
     "name": "stdout",
     "output_type": "stream",
     "text": [
      "USA            105\n",
      "France          15\n",
      "Brazil          10\n",
      "Canada           9\n",
      "Germany          8\n",
      "              ... \n",
      "Israel           1\n",
      "Kuwait           1\n",
      "Malaysia         1\n",
      "Netherlands      1\n",
      "Zimbabwe         1\n",
      "Name: Country, Length: 61, dtype: int64\n"
     ]
    },
    {
     "data": {
      "text/plain": [
       "Italy    4\n",
       "Name: Country, dtype: int64"
      ]
     },
     "execution_count": 60,
     "metadata": {},
     "output_type": "execute_result"
    }
   ],
   "source": [
    "# 해설 참조\n",
    "\n",
    "\n",
    "countries_ct = df['Country'].value_counts()\n",
    "print(countries_ct)\n",
    "# 마무리가 헷갈렸음...!\n",
    "# countries_ct  시리즈 자체를 숫자4에 비교하면, 값이4 인곳이 불린값으로나옴 이를 전과 같이 필터링 해주면 됨\n",
    "countries_ct[countries_ct == 4]"
   ]
  },
  {
   "cell_type": "code",
   "execution_count": null,
   "metadata": {
    "colab": {
     "base_uri": "https://localhost:8080/"
    },
    "executionInfo": {
     "elapsed": 2,
     "status": "ok",
     "timestamp": 1693364548531,
     "user": {
      "displayName": "Hyeri Lee",
      "userId": "05861103522552969648"
     },
     "user_tz": -540
    },
    "id": "qHjp3wVFNnfs",
    "outputId": "1de11743-ee99-468f-c299-bc1161d6e446"
   },
   "outputs": [
    {
     "data": {
      "text/plain": [
       "pandas.core.series.Series"
      ]
     },
     "execution_count": 61,
     "metadata": {},
     "output_type": "execute_result"
    }
   ],
   "source": [
    "type(countries_ct)"
   ]
  },
  {
   "cell_type": "markdown",
   "metadata": {
    "id": "icHyMs9XZkDP"
   },
   "source": [
    "### 05.[실습] 코드잇 대학교: 수강시청 준비하기"
   ]
  },
  {
   "cell_type": "markdown",
   "metadata": {
    "id": "ViUWT0gcZtFf"
   },
   "source": [
    "2,000명의 코드잇 대학교 학생들이 수강신청을 했습니다.\n",
    "\n",
    "수강신청에는 다음 3개의 조건이 있습니다.\n",
    "\n",
    "“information technology” 과목은 심화과목이라 1학년은 수강할 수 없습니다.\n",
    "“commerce” 과목은 기초과목이고 많은 학생들이 듣는 수업이라 4학년은 수강할 수 없습니다.\n",
    "수강생이 5명이 되지 않으면 강의는 폐강되어 수강할 수 없습니다.\n",
    "기존 DataFrame에 “status”라는 이름의 column을 추가하고, 학생이 수강 가능한 상태이면 “allowed”, 수강 불가능한 상태이면 “not allowed”를 넣어주세요."
   ]
  },
  {
   "cell_type": "markdown",
   "metadata": {
    "id": "JGhrkT-n7spR"
   },
   "source": [
    "나의 답안... 어렵다...."
   ]
  },
  {
   "cell_type": "code",
   "execution_count": null,
   "metadata": {
    "id": "alhiIQGpZr7n"
   },
   "outputs": [],
   "source": [
    "import pandas as pd\n",
    "\n",
    "df = pd.read_csv('data/enrolment_1.csv')\n",
    "\n",
    "# 여기에 코드를 작성하세요\n",
    "# 1.\n",
    "no_year1 = (df['course name'] == 'information technology') & (df['year'] == 1)\n",
    "# 2.\n",
    "no_year4 = (df['course name'] == 'commerce') & (df['year'] == 4)\n",
    "\n",
    "# 1, 2의 판다스 시리즈를 합침\n",
    "#\n",
    "no_df = no_year1 | no_year4\n",
    "no_df\n",
    "\n",
    "# status 컬럼 추가, 컬럼 값 변경\n",
    "df['status'] = no_df\n",
    "\n",
    "# 컬럼 값 변경\n",
    "#df[df['status'] == True] = 'not allowed' => 이렇게 하니까,,, 한 행의 모든값이 다 바뀜..\n",
    "#df[df['status'] == False] = 'allowed'\n",
    "\n",
    "# replace() 모듈 사용\n",
    "df = df.replace({ 'status' : True }, 'not allowed')\n",
    "df = df.replace({ 'status' : False }, 'allowed')\n",
    "\n",
    "# 3. , 데이터에 5번 이상 등장하지 않는 데이터는 'status'에 'not allowed'\n",
    "# GPT 도움....\n",
    "# course_name 에 해당하는 status 통계 내기\n",
    "# 'course'별 'status' 개수 계산\n",
    "course_status_counts = df.groupby(['course name', 'status']).size().unstack().fillna(0)\n",
    "df[course_status_counts['allowed'] < 5]\n",
    "\n",
    "# 'allowed' 개수가 5보다 작은 'course'의 'status' 값을 'not_allowed'로 변경\n",
    "courses_to_update = course_allowed_counts[course_allowed_counts < 5].index\n",
    "df.loc[df['course name'].isin(courses_to_update), 'status'] = 'not allowed'\n",
    "\n",
    "# 테스트 코드\n",
    "df"
   ]
  },
  {
   "cell_type": "markdown",
   "metadata": {
    "id": "mi_kaDhx7xgp"
   },
   "source": [
    "- 참고 답안 ... 복습!!"
   ]
  },
  {
   "cell_type": "code",
   "execution_count": null,
   "metadata": {
    "id": "yRTVYt3K7zVq"
   },
   "outputs": [],
   "source": [
    "import pandas as pd\n",
    "\n",
    "df = pd.read_csv('data/enrolment_1.csv')\n",
    "\n",
    "# 'status' 컬럼을 만들고, 전체 'allowed'로 우선 지정 // 추후에 조건에 맞게 'not allowed'로 값 변경\n",
    "df['status'] = \"allowed\"\n",
    "\n",
    "# 첫 번째 조건 : 1학년이 들을 수 없는 과목 // 여기에 해당하는 불린값 받기\n",
    "condition_1 = (df['year'] == 1) & (df['course name'] == 'information technology')\n",
    "# 두 번째 조건 : 4학년이 들을 수 없는 과목 // 여기에 해당하는 불린값 받기\n",
    "condition_2 = (df['year'] == 4) & (df['course name'] == 'commerce')\n",
    "\n",
    "# 과목 별 개수를 받아서 df_count에 저장\n",
    "df_count = df['course name'].value_counts()\n",
    "\n",
    "# 세 번째 조건 : df_count에서 5번 미만 등장하는 필터링 값의 행,, 에서 course name의 각 값들이 존재하는지 불린값 받기\n",
    "condition_3 = df['course name'].isin(df_count[df_count < 5].index)\n",
    "\n",
    "# 각 조건에서 하나라도 False가 있으면 'not allowed'로 값 변경\n",
    "df.loc[condition_1 | condition_2 | condition_3, 'status'] = 'not allowed'\n",
    "\n",
    "df"
   ]
  },
  {
   "cell_type": "markdown",
   "metadata": {
    "id": "L1kNerU-_4tj"
   },
   "source": [
    "- 모범 답안"
   ]
  },
  {
   "cell_type": "code",
   "execution_count": null,
   "metadata": {
    "id": "ZQos_Rqs_9Gy"
   },
   "outputs": [],
   "source": [
    "import pandas as pd\n",
    "\n",
    "df = pd.read_csv('data/enrolment_1.csv')\n",
    "df[\"status\"] = \"allowed\"\n",
    "\n",
    "# 참고한 답안과의 차이점 : 불린 값 받는 DF를 한번 더 세부적으로 나눔.\n",
    "# 조건 하나 지날 때마다 \"not allowed\" 변경\n",
    "\n",
    "# 조건 1\n",
    "boolean1 = df[\"course name\"] == \"information technology\"\n",
    "boolean2 = df[\"year\"] == 1\n",
    "df.loc[boolean1 & boolean2, \"status\"] = \"not allowed\"\n",
    "\n",
    "# 조건 2\n",
    "boolean3= df[\"course name\"] == \"commerce\"\n",
    "boolean4= df[\"year\"] == 4\n",
    "df.loc[boolean3& boolean4, \"status\"] = \"not allowed\"\n",
    "\n",
    "# 참고한 답안과의 차이점 : isin 안 쓰는 방법\n",
    "# 조건 3\n",
    "allowed = df[\"status\"] == \"allowed\"\n",
    "course_counts = df.loc[allowed, \"course name\"].value_counts()\n",
    "# 리스트 활용\n",
    "closed_courses = list(course_counts[course_counts < 5].index)\n",
    "# 반복문으로 ,,\n",
    "for course in closed_courses:\n",
    "    df.loc[df[\"course name\"] == course, \"status\"] = \"not allowed\"\n",
    "\n",
    "# 테스트 코드\n",
    "df"
   ]
  },
  {
   "cell_type": "markdown",
   "metadata": {
    "id": "l4P6OCQDD2vA"
   },
   "source": [
    "### 06. [실습] 코드잇 대학교 : 강의실 배정하기 (1)"
   ]
  },
  {
   "cell_type": "markdown",
   "metadata": {
    "id": "7KS5I318EFuI"
   },
   "source": [
    "수강 신청이 완료되었습니다. 이제 각 과목을 수강하는 학생수에 따라 크기가 다른 강의실을 배치하려고 합니다.\n",
    "\n",
    "강의실은 규모에 따라 “Auditorium”, “Large room”, “Medium room”, “Small room” 총 4가지 종류가 있습니다.\n",
    "\n",
    "아래 조건에 따라 강의실 종류를 지정해 주세요.\n",
    "\n",
    "80명 이상의 학생이 수강하는 과목은 “Auditorium”에서 진행됩니다.\n",
    "40명 이상, 80명 미만의 학생이 수강하는 과목은 “Large room”에서 진행됩니다.\n",
    "15명 이상, 40명 미만의 학생이 수강하는 과목은 “Medium room”에서 진행됩니다.\n",
    "5명 이상, 15명 미만의 학생이 수강하는 과목은 “Small room”에서 진행됩니다.\n",
    "폐강 등의 이유로 status가 “not allowed”인 수강생은 room assignment 또한 “not assigned”가 되어야 합니다."
   ]
  },
  {
   "cell_type": "code",
   "execution_count": null,
   "metadata": {
    "id": "4JwKPhop7Gnm"
   },
   "outputs": [],
   "source": [
    "import pandas as pd\n",
    "\n",
    "\n",
    "df = pd.read_csv('data/enrolment_2.csv')\n",
    "\n",
    "# 1. **status가 \"allowed\"인 course들에 대해서** 각 과목의 수강 인원 가져오기\n",
    "# status가 allowed인 인덱스의 불린값 받아오기\n",
    "allowed = df[\"status\"] == \"allowed\"\n",
    "# status가 allowed인  course들에 대해서 각 코스의 개수 받아오기\n",
    "course_counts = df.loc[allowed, \"course name\"].value_counts()\n",
    "course_counts  # => status가 allowed인  course들의 개수(듣는 학생 수)\n",
    "\n",
    "# 2. 강의실 규모에 따라, 각 과목을 리스트로 만든다.\n",
    "    # 이제 리스트를 같이 사용할 줄 알아야함.\n",
    "auditorium_list = list(course_counts[course_counts >= 80].index) # 이 조건을 만족하는 과목명만 리스트에 추가됨\n",
    "large_room_list = list(course_counts[(80 > course_counts) & (course_counts >= 40)].index)\n",
    "medium_room_list = list(course_counts[(40 > course_counts) & (course_counts >= 15)].index)\n",
    "small_room_list = list(course_counts[(15 > course_counts) & (course_counts >= 5)].index)\n",
    "\n",
    "# 3. 위에서 만든 리스트(강의실 규모에 따른 각 과목 리스트)를 활용해서 for문으로 room assignment 값을 정해준다.\n",
    "# (1) not allowed 과목에 대해 값 지정해주기\n",
    "not_allowed = df[\"status\"] == \"not allowed\"\n",
    "df.loc[not_allowed, \"room assignment\"] = \"not assigned\"\n",
    "\n",
    "# (2) allowed 과목에 대해 값 지정해주기\n",
    "for course in auditorium_list:\n",
    "    df.loc[(df[\"course name\"] == course) & allowed, \"room assignment\"] = \"Auditorium\"\n",
    "for course in large_room_list:\n",
    "    df.loc[(df[\"course name\"] == course) & allowed, \"room assignment\"] = \"Large room\"\n",
    "for course in medium_room_list:\n",
    "    df.loc[(df[\"course name\"] == course) & allowed, \"room assignment\"] = \"Medium room\"\n",
    "for course in small_room_list:\n",
    "    df.loc[(df[\"course name\"] == course) & allowed, \"room assignment\"] = \"Small room\"\n",
    "\n",
    "\n",
    "df"
   ]
  },
  {
   "cell_type": "markdown",
   "metadata": {},
   "source": [
    "### 07. 코드잇 대학교 : 강의실 배정하기2"
   ]
  },
  {
   "cell_type": "raw",
   "metadata": {},
   "source": [
    "이전 과제에서 강의실 크기에 따라 room assignment column을 만들어 주었습니다.\n",
    "\n",
    "이제 이 room assignment에 따라 강의실 이름을 붙여주려고 합니다.\n",
    "\n",
    "아래 세 가지 조건을 만족하도록 코드를 작성하세요.\n",
    "\n",
    "같은 크기의 강의실이 필요한 과목에 대해 알파벳 순서대로 방 번호를 배정하세요.\n",
    "\n",
    "예를 들어 \"Auditorium\"이 필요한 과목으로 “arts”, “commerce”, “science” 세 과목이 있다면, “arts”는 “Auditorium-1”, “commerce”는 “Auditorium-2”, “science”는 “Auditorium-3” 순서로 방 배정이 되어야 합니다.\n",
    "\n",
    "방 번호에 room 은 포함되지 않습니다. 아래 스크린샷을 참고하여 작성해주세요.\n",
    "\n",
    "status column이 “not allowed”인 수강생은 room assignment column을 그대로 “not assigned”로 남겨둡니다. \"not allowed\" 인 수강생의 room assignment 상태가 변경되지 않도록 유의해주세요.\n",
    "\n",
    "room assignment column의 이름을 room number로 바꿔주세요."
   ]
  },
  {
   "cell_type": "code",
   "execution_count": null,
   "metadata": {},
   "outputs": [],
   "source": [
    "# 모범답안\n",
    "import pandas as pd\n",
    "\n",
    "df = pd.read_csv('data/enrolment_3.csv')\n",
    "\n",
    "# 과목별 인원 가져오기\n",
    "allowed = df[\"status\"] == \"allowed\"\n",
    "course_counts = df.loc[allowed, \"course name\"].value_counts()\n",
    "\n",
    "# 각 강의실 규모에 해당되는 과목 리스트 만들기\n",
    "auditorium_list = list(course_counts[course_counts >= 80].index)\n",
    "large_room_list = list(course_counts[(80 > course_counts) & (course_counts >= 40)].index)\n",
    "medium_room_list = list(course_counts[(40 > course_counts) & (course_counts >= 15)].index)\n",
    "small_room_list = list(course_counts[(15 > course_counts) & (course_counts > 4)].index)\n",
    "\n",
    "# 강의실 이름 붙이기\n",
    "for i in range(len(auditorium_list)):\n",
    "    df.loc[(df[\"course name\"] == sorted(auditorium_list)[i]) & allowed, \"room assignment\"] = \"Auditorium-\" + str(i + 1)\n",
    "\n",
    "for i in range(len(large_room_list)):\n",
    "    df.loc[(df[\"course name\"] == sorted(large_room_list)[i]) & allowed, \"room assignment\"] = \"Large-\" + str(i + 1)\n",
    "    \n",
    "for i in range(len(medium_room_list)):\n",
    "    df.loc[(df[\"course name\"] == sorted(medium_room_list)[i]) & allowed, \"room assignment\"] = \"Medium-\" + str(i + 1)\n",
    "    \n",
    "for i in range(len(small_room_list)):\n",
    "    df.loc[(df[\"course name\"] == sorted(small_room_list)[i]) & allowed, \"room assignment\"] = \"Small-\" + str(i + 1)\n",
    "\n",
    "# column 이름 바꾸기\n",
    "df.rename(columns={\"room assignment\": \"room number\"}, inplace = True)\n",
    "    \n",
    "# 테스트 코드\n",
    "df\n"
   ]
  },
  {
   "cell_type": "markdown",
   "metadata": {},
   "source": [
    "### 해설"
   ]
  },
  {
   "cell_type": "raw",
   "metadata": {},
   "source": [
    "아래 세 가지 조건을 만족해야 합니다.\n",
    "\n",
    "같은 크기의 강의실이 필요한 과목에 대해 알파벳 순서대로 방 번호를 배정하세요. 예를 들어 Auditorium이 필요한 과목으로 “arts”, “commerce”, “science” 세 과목이 있다면, “arts”는 “Auditorium-1”, “commerce”는 “Auditorium-2”, “science”는 “Auditorium-3” 순서로 방 배정이 되어야 합니다.\n",
    "\n",
    "“status”가 “not allowed”인 수강생은 “room assignment”를 그대로 “not assigned”로 남겨둡니다.\n",
    "\n",
    "“room assignment” column의 이름을 “room number”로 바꿔주세요.\n",
    "\n",
    "먼저, 앞선 과제와 같이 status가 allowed인 수강생들의 과목별 수강 인원을 받아옵니다."
   ]
  },
  {
   "cell_type": "code",
   "execution_count": null,
   "metadata": {},
   "outputs": [],
   "source": [
    "import pandas as pd\n",
    "\n",
    "df = pd.read_csv('data/enrolment_3.csv')\n",
    "\n",
    "# 과목별 인원 가져오기\n",
    "allowed = df[\"status\"] == \"allowed\"\n",
    "course_counts = df.loc[allowed, \"course name\"].value_counts()"
   ]
  },
  {
   "cell_type": "raw",
   "metadata": {},
   "source": [
    "그리고 이를 통해 각 강의실 규모에 해당되는 과목 리스트를 만들어 줍니다."
   ]
  },
  {
   "cell_type": "code",
   "execution_count": null,
   "metadata": {},
   "outputs": [],
   "source": [
    "# 각 강의실 규모에 해당되는 과목 리스트 만들기\n",
    "auditorium_list = list(course_counts[course_counts >= 80].index)\n",
    "large_room_list = list(course_counts[(80 > course_counts) & (course_counts >= 40)].index)\n",
    "medium_room_list = list(course_counts[(40 > course_counts) & (course_counts >= 15)].index)\n",
    "small_room_list = list(course_counts[(15 > course_counts) & (course_counts > 4)].index)\n"
   ]
  },
  {
   "cell_type": "raw",
   "metadata": {},
   "source": [
    "이렇게 만들어진 리스트를 활용해서, 각 강의실의 이름을 붙여줍니다."
   ]
  },
  {
   "cell_type": "code",
   "execution_count": null,
   "metadata": {},
   "outputs": [],
   "source": [
    "# 강의실 이름 붙이기\n",
    "for i in range(len(auditorium_list)):\n",
    "    df.loc[(df[\"course name\"] == sorted(auditorium_list)[i]) & allowed, \"room assignment\"] = \"Auditorium-\" + str(i + 1)\n",
    "\n",
    "for i in range(len(large_room_list)):\n",
    "    df.loc[(df[\"course name\"] == sorted(large_room_list)[i]) & allowed, \"room assignment\"] = \"Large-\" + str(i + 1)\n",
    "    \n",
    "for i in range(len(medium_room_list)):\n",
    "    df.loc[(df[\"course name\"] == sorted(medium_room_list)[i]) & allowed, \"room assignment\"] = \"Medium-\" + str(i + 1)\n",
    "    \n",
    "for i in range(len(small_room_list)):\n",
    "    df.loc[(df[\"course name\"] == sorted(small_room_list)[i]) & allowed, \"room assignment\"] = \"Small-\" + str(i + 1)\n"
   ]
  },
  {
   "cell_type": "raw",
   "metadata": {},
   "source": [
    "마지막으로 column 이름을 바꿔줍니다."
   ]
  },
  {
   "cell_type": "code",
   "execution_count": null,
   "metadata": {},
   "outputs": [],
   "source": [
    "# column 이름 바꾸기\n",
    "df.rename(columns={\"room assignment\": \"room number\"}, inplace = True)"
   ]
  }
 ],
 "metadata": {
  "colab": {
   "authorship_tag": "ABX9TyNFX/mmaef80wSkGHcQE941",
   "provenance": []
  },
  "kernelspec": {
   "display_name": "Python 3 (ipykernel)",
   "language": "python",
   "name": "python3"
  },
  "language_info": {
   "codemirror_mode": {
    "name": "ipython",
    "version": 3
   },
   "file_extension": ".py",
   "mimetype": "text/x-python",
   "name": "python",
   "nbconvert_exporter": "python",
   "pygments_lexer": "ipython3",
   "version": "3.9.13"
  }
 },
 "nbformat": 4,
 "nbformat_minor": 1
}
